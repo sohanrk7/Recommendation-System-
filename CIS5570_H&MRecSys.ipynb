{
  "cells": [
    {
      "cell_type": "code",
      "execution_count": null,
      "metadata": {
        "execution": {
          "iopub.execute_input": "2022-04-25T07:15:26.549480Z",
          "iopub.status.busy": "2022-04-25T07:15:26.548898Z",
          "iopub.status.idle": "2022-04-25T07:15:27.868137Z",
          "shell.execute_reply": "2022-04-25T07:15:27.867007Z",
          "shell.execute_reply.started": "2022-04-25T07:15:26.549428Z"
        },
        "scrolled": false,
        "id": "oc8z2puU2Gw_",
        "outputId": "a143c5a6-19c5-40e8-d885-07201e31ebce"
      },
      "outputs": [
        {
          "data": {
            "text/html": [
              "<div>\n",
              "<style scoped>\n",
              "    .dataframe tbody tr th:only-of-type {\n",
              "        vertical-align: middle;\n",
              "    }\n",
              "\n",
              "    .dataframe tbody tr th {\n",
              "        vertical-align: top;\n",
              "    }\n",
              "\n",
              "    .dataframe thead th {\n",
              "        text-align: right;\n",
              "    }\n",
              "</style>\n",
              "<table border=\"1\" class=\"dataframe\">\n",
              "  <thead>\n",
              "    <tr style=\"text-align: right;\">\n",
              "      <th></th>\n",
              "      <th>article_id</th>\n",
              "      <th>product_code</th>\n",
              "      <th>prod_name</th>\n",
              "      <th>product_type_no</th>\n",
              "      <th>product_type_name</th>\n",
              "      <th>product_group_name</th>\n",
              "      <th>graphical_appearance_no</th>\n",
              "      <th>graphical_appearance_name</th>\n",
              "      <th>colour_group_code</th>\n",
              "      <th>colour_group_name</th>\n",
              "      <th>...</th>\n",
              "      <th>department_name</th>\n",
              "      <th>index_code</th>\n",
              "      <th>index_name</th>\n",
              "      <th>index_group_no</th>\n",
              "      <th>index_group_name</th>\n",
              "      <th>section_no</th>\n",
              "      <th>section_name</th>\n",
              "      <th>garment_group_no</th>\n",
              "      <th>garment_group_name</th>\n",
              "      <th>detail_desc</th>\n",
              "    </tr>\n",
              "  </thead>\n",
              "  <tbody>\n",
              "    <tr>\n",
              "      <th>0</th>\n",
              "      <td>108775015</td>\n",
              "      <td>108775</td>\n",
              "      <td>Strap top</td>\n",
              "      <td>253</td>\n",
              "      <td>Vest top</td>\n",
              "      <td>Garment Upper body</td>\n",
              "      <td>1010016</td>\n",
              "      <td>Solid</td>\n",
              "      <td>9</td>\n",
              "      <td>Black</td>\n",
              "      <td>...</td>\n",
              "      <td>Jersey Basic</td>\n",
              "      <td>A</td>\n",
              "      <td>Ladieswear</td>\n",
              "      <td>1</td>\n",
              "      <td>Ladieswear</td>\n",
              "      <td>16</td>\n",
              "      <td>Womens Everyday Basics</td>\n",
              "      <td>1002</td>\n",
              "      <td>Jersey Basic</td>\n",
              "      <td>Jersey top with narrow shoulder straps.</td>\n",
              "    </tr>\n",
              "    <tr>\n",
              "      <th>1</th>\n",
              "      <td>108775044</td>\n",
              "      <td>108775</td>\n",
              "      <td>Strap top</td>\n",
              "      <td>253</td>\n",
              "      <td>Vest top</td>\n",
              "      <td>Garment Upper body</td>\n",
              "      <td>1010016</td>\n",
              "      <td>Solid</td>\n",
              "      <td>10</td>\n",
              "      <td>White</td>\n",
              "      <td>...</td>\n",
              "      <td>Jersey Basic</td>\n",
              "      <td>A</td>\n",
              "      <td>Ladieswear</td>\n",
              "      <td>1</td>\n",
              "      <td>Ladieswear</td>\n",
              "      <td>16</td>\n",
              "      <td>Womens Everyday Basics</td>\n",
              "      <td>1002</td>\n",
              "      <td>Jersey Basic</td>\n",
              "      <td>Jersey top with narrow shoulder straps.</td>\n",
              "    </tr>\n",
              "    <tr>\n",
              "      <th>2</th>\n",
              "      <td>108775051</td>\n",
              "      <td>108775</td>\n",
              "      <td>Strap top (1)</td>\n",
              "      <td>253</td>\n",
              "      <td>Vest top</td>\n",
              "      <td>Garment Upper body</td>\n",
              "      <td>1010017</td>\n",
              "      <td>Stripe</td>\n",
              "      <td>11</td>\n",
              "      <td>Off White</td>\n",
              "      <td>...</td>\n",
              "      <td>Jersey Basic</td>\n",
              "      <td>A</td>\n",
              "      <td>Ladieswear</td>\n",
              "      <td>1</td>\n",
              "      <td>Ladieswear</td>\n",
              "      <td>16</td>\n",
              "      <td>Womens Everyday Basics</td>\n",
              "      <td>1002</td>\n",
              "      <td>Jersey Basic</td>\n",
              "      <td>Jersey top with narrow shoulder straps.</td>\n",
              "    </tr>\n",
              "    <tr>\n",
              "      <th>3</th>\n",
              "      <td>110065001</td>\n",
              "      <td>110065</td>\n",
              "      <td>OP T-shirt (Idro)</td>\n",
              "      <td>306</td>\n",
              "      <td>Bra</td>\n",
              "      <td>Underwear</td>\n",
              "      <td>1010016</td>\n",
              "      <td>Solid</td>\n",
              "      <td>9</td>\n",
              "      <td>Black</td>\n",
              "      <td>...</td>\n",
              "      <td>Clean Lingerie</td>\n",
              "      <td>B</td>\n",
              "      <td>Lingeries/Tights</td>\n",
              "      <td>1</td>\n",
              "      <td>Ladieswear</td>\n",
              "      <td>61</td>\n",
              "      <td>Womens Lingerie</td>\n",
              "      <td>1017</td>\n",
              "      <td>Under-, Nightwear</td>\n",
              "      <td>Microfibre T-shirt bra with underwired, moulde...</td>\n",
              "    </tr>\n",
              "    <tr>\n",
              "      <th>4</th>\n",
              "      <td>110065002</td>\n",
              "      <td>110065</td>\n",
              "      <td>OP T-shirt (Idro)</td>\n",
              "      <td>306</td>\n",
              "      <td>Bra</td>\n",
              "      <td>Underwear</td>\n",
              "      <td>1010016</td>\n",
              "      <td>Solid</td>\n",
              "      <td>10</td>\n",
              "      <td>White</td>\n",
              "      <td>...</td>\n",
              "      <td>Clean Lingerie</td>\n",
              "      <td>B</td>\n",
              "      <td>Lingeries/Tights</td>\n",
              "      <td>1</td>\n",
              "      <td>Ladieswear</td>\n",
              "      <td>61</td>\n",
              "      <td>Womens Lingerie</td>\n",
              "      <td>1017</td>\n",
              "      <td>Under-, Nightwear</td>\n",
              "      <td>Microfibre T-shirt bra with underwired, moulde...</td>\n",
              "    </tr>\n",
              "  </tbody>\n",
              "</table>\n",
              "<p>5 rows × 25 columns</p>\n",
              "</div>"
            ],
            "text/plain": [
              "   article_id  product_code          prod_name  product_type_no  \\\n",
              "0   108775015        108775          Strap top              253   \n",
              "1   108775044        108775          Strap top              253   \n",
              "2   108775051        108775      Strap top (1)              253   \n",
              "3   110065001        110065  OP T-shirt (Idro)              306   \n",
              "4   110065002        110065  OP T-shirt (Idro)              306   \n",
              "\n",
              "  product_type_name  product_group_name  graphical_appearance_no  \\\n",
              "0          Vest top  Garment Upper body                  1010016   \n",
              "1          Vest top  Garment Upper body                  1010016   \n",
              "2          Vest top  Garment Upper body                  1010017   \n",
              "3               Bra           Underwear                  1010016   \n",
              "4               Bra           Underwear                  1010016   \n",
              "\n",
              "  graphical_appearance_name  colour_group_code colour_group_name  ...  \\\n",
              "0                     Solid                  9             Black  ...   \n",
              "1                     Solid                 10             White  ...   \n",
              "2                    Stripe                 11         Off White  ...   \n",
              "3                     Solid                  9             Black  ...   \n",
              "4                     Solid                 10             White  ...   \n",
              "\n",
              "   department_name index_code        index_name index_group_no  \\\n",
              "0     Jersey Basic          A        Ladieswear              1   \n",
              "1     Jersey Basic          A        Ladieswear              1   \n",
              "2     Jersey Basic          A        Ladieswear              1   \n",
              "3   Clean Lingerie          B  Lingeries/Tights              1   \n",
              "4   Clean Lingerie          B  Lingeries/Tights              1   \n",
              "\n",
              "   index_group_name section_no            section_name garment_group_no  \\\n",
              "0        Ladieswear         16  Womens Everyday Basics             1002   \n",
              "1        Ladieswear         16  Womens Everyday Basics             1002   \n",
              "2        Ladieswear         16  Womens Everyday Basics             1002   \n",
              "3        Ladieswear         61         Womens Lingerie             1017   \n",
              "4        Ladieswear         61         Womens Lingerie             1017   \n",
              "\n",
              "   garment_group_name                                        detail_desc  \n",
              "0        Jersey Basic            Jersey top with narrow shoulder straps.  \n",
              "1        Jersey Basic            Jersey top with narrow shoulder straps.  \n",
              "2        Jersey Basic            Jersey top with narrow shoulder straps.  \n",
              "3   Under-, Nightwear  Microfibre T-shirt bra with underwired, moulde...  \n",
              "4   Under-, Nightwear  Microfibre T-shirt bra with underwired, moulde...  \n",
              "\n",
              "[5 rows x 25 columns]"
            ]
          },
          "execution_count": 1,
          "metadata": {},
          "output_type": "execute_result"
        }
      ],
      "source": [
        "import pandas as pd #for dataframe computation\n",
        "import numpy as np#for matrix computations\n",
        "articles= pd.read_csv('articles.csv') \n",
        "articles.head()"
      ]
    },
    {
      "cell_type": "code",
      "execution_count": null,
      "metadata": {
        "execution": {
          "iopub.execute_input": "2022-04-25T07:15:27.870374Z",
          "iopub.status.busy": "2022-04-25T07:15:27.869995Z",
          "iopub.status.idle": "2022-04-25T07:15:27.876962Z",
          "shell.execute_reply": "2022-04-25T07:15:27.876311Z",
          "shell.execute_reply.started": "2022-04-25T07:15:27.870335Z"
        },
        "id": "kvW2IX1I2GxH",
        "outputId": "2b456780-e613-4fb4-fc86-39d9861c5957"
      },
      "outputs": [
        {
          "data": {
            "text/plain": [
              "Index(['article_id', 'product_code', 'prod_name', 'product_type_no',\n",
              "       'product_type_name', 'product_group_name', 'graphical_appearance_no',\n",
              "       'graphical_appearance_name', 'colour_group_code', 'colour_group_name',\n",
              "       'perceived_colour_value_id', 'perceived_colour_value_name',\n",
              "       'perceived_colour_master_id', 'perceived_colour_master_name',\n",
              "       'department_no', 'department_name', 'index_code', 'index_name',\n",
              "       'index_group_no', 'index_group_name', 'section_no', 'section_name',\n",
              "       'garment_group_no', 'garment_group_name', 'detail_desc'],\n",
              "      dtype='object')"
            ]
          },
          "execution_count": 2,
          "metadata": {},
          "output_type": "execute_result"
        }
      ],
      "source": [
        "articles.columns #to list out the names of all attributes of 'articles'"
      ]
    },
    {
      "cell_type": "code",
      "execution_count": null,
      "metadata": {
        "execution": {
          "iopub.execute_input": "2022-04-25T07:15:27.878585Z",
          "iopub.status.busy": "2022-04-25T07:15:27.877931Z",
          "iopub.status.idle": "2022-04-25T07:15:28.080232Z",
          "shell.execute_reply": "2022-04-25T07:15:28.079324Z",
          "shell.execute_reply.started": "2022-04-25T07:15:27.878533Z"
        },
        "id": "ZIJqAU6C2GxH",
        "outputId": "f456d9fc-6b33-4663-adf4-5fdf3022d293"
      },
      "outputs": [
        {
          "name": "stdout",
          "output_type": "stream",
          "text": [
            "<class 'pandas.core.frame.DataFrame'>\n",
            "RangeIndex: 105542 entries, 0 to 105541\n",
            "Data columns (total 25 columns):\n",
            " #   Column                        Non-Null Count   Dtype \n",
            "---  ------                        --------------   ----- \n",
            " 0   article_id                    105542 non-null  int64 \n",
            " 1   product_code                  105542 non-null  int64 \n",
            " 2   prod_name                     105542 non-null  object\n",
            " 3   product_type_no               105542 non-null  int64 \n",
            " 4   product_type_name             105542 non-null  object\n",
            " 5   product_group_name            105542 non-null  object\n",
            " 6   graphical_appearance_no       105542 non-null  int64 \n",
            " 7   graphical_appearance_name     105542 non-null  object\n",
            " 8   colour_group_code             105542 non-null  int64 \n",
            " 9   colour_group_name             105542 non-null  object\n",
            " 10  perceived_colour_value_id     105542 non-null  int64 \n",
            " 11  perceived_colour_value_name   105542 non-null  object\n",
            " 12  perceived_colour_master_id    105542 non-null  int64 \n",
            " 13  perceived_colour_master_name  105542 non-null  object\n",
            " 14  department_no                 105542 non-null  int64 \n",
            " 15  department_name               105542 non-null  object\n",
            " 16  index_code                    105542 non-null  object\n",
            " 17  index_name                    105542 non-null  object\n",
            " 18  index_group_no                105542 non-null  int64 \n",
            " 19  index_group_name              105542 non-null  object\n",
            " 20  section_no                    105542 non-null  int64 \n",
            " 21  section_name                  105542 non-null  object\n",
            " 22  garment_group_no              105542 non-null  int64 \n",
            " 23  garment_group_name            105542 non-null  object\n",
            " 24  detail_desc                   105126 non-null  object\n",
            "dtypes: int64(11), object(14)\n",
            "memory usage: 20.1+ MB\n"
          ]
        }
      ],
      "source": [
        "articles.info() #notice that the memory usage for 'articles' is 20.1 MB\n"
      ]
    },
    {
      "cell_type": "markdown",
      "metadata": {
        "id": "gKv1YAMS2GxH"
      },
      "source": [
        "Counting the number of distinct values in each attribute of the table 'articles'"
      ]
    },
    {
      "cell_type": "code",
      "execution_count": null,
      "metadata": {
        "execution": {
          "iopub.execute_input": "2022-04-25T07:15:28.082511Z",
          "iopub.status.busy": "2022-04-25T07:15:28.082259Z",
          "iopub.status.idle": "2022-04-25T07:15:28.251299Z",
          "shell.execute_reply": "2022-04-25T07:15:28.250364Z",
          "shell.execute_reply.started": "2022-04-25T07:15:28.082479Z"
        },
        "id": "4Q_-2OvC2GxI",
        "outputId": "ccce2b5d-9629-424b-d425-89f71e664c4c"
      },
      "outputs": [
        {
          "name": "stdout",
          "output_type": "stream",
          "text": [
            "article_id  105542\n",
            "product_code  47224\n",
            "prod_name  45875\n",
            "product_type_no  132\n",
            "product_type_name  131\n",
            "product_group_name  19\n",
            "graphical_appearance_no  30\n",
            "graphical_appearance_name  30\n",
            "colour_group_code  50\n",
            "colour_group_name  50\n",
            "perceived_colour_value_id  8\n",
            "perceived_colour_value_name  8\n",
            "perceived_colour_master_id  20\n",
            "perceived_colour_master_name  20\n",
            "department_no  299\n",
            "department_name  250\n",
            "index_code  10\n",
            "index_name  10\n",
            "index_group_no  5\n",
            "index_group_name  5\n",
            "section_no  57\n",
            "section_name  56\n",
            "garment_group_no  21\n",
            "garment_group_name  21\n",
            "detail_desc  43405\n"
          ]
        }
      ],
      "source": [
        "#Counting the number of distinct values in each attribute of the table 'articles'\n",
        "for i in articles.columns:\n",
        "    print('{} '.format(i),len(articles[i].unique()))"
      ]
    },
    {
      "cell_type": "code",
      "execution_count": null,
      "metadata": {
        "execution": {
          "iopub.execute_input": "2022-04-25T07:15:28.252873Z",
          "iopub.status.busy": "2022-04-25T07:15:28.252618Z",
          "iopub.status.idle": "2022-04-25T07:15:28.422687Z",
          "shell.execute_reply": "2022-04-25T07:15:28.421856Z",
          "shell.execute_reply.started": "2022-04-25T07:15:28.252842Z"
        },
        "id": "yUvvvrBh2GxI",
        "outputId": "049ff159-580f-43c9-fc48-9348d2ee0bee"
      },
      "outputs": [
        {
          "data": {
            "text/plain": [
              "article_id                        0\n",
              "product_code                      0\n",
              "prod_name                         0\n",
              "product_type_no                   0\n",
              "product_type_name                 0\n",
              "product_group_name                0\n",
              "graphical_appearance_no           0\n",
              "graphical_appearance_name         0\n",
              "colour_group_code                 0\n",
              "colour_group_name                 0\n",
              "perceived_colour_value_id         0\n",
              "perceived_colour_value_name       0\n",
              "perceived_colour_master_id        0\n",
              "perceived_colour_master_name      0\n",
              "department_no                     0\n",
              "department_name                   0\n",
              "index_code                        0\n",
              "index_name                        0\n",
              "index_group_no                    0\n",
              "index_group_name                  0\n",
              "section_no                        0\n",
              "section_name                      0\n",
              "garment_group_no                  0\n",
              "garment_group_name                0\n",
              "detail_desc                     416\n",
              "dtype: int64"
            ]
          },
          "execution_count": 5,
          "metadata": {},
          "output_type": "execute_result"
        }
      ],
      "source": [
        "articles.isna().sum() #checking for the presence of null values"
      ]
    },
    {
      "cell_type": "code",
      "execution_count": null,
      "metadata": {
        "execution": {
          "iopub.execute_input": "2022-04-25T07:15:28.424599Z",
          "iopub.status.busy": "2022-04-25T07:15:28.424140Z",
          "iopub.status.idle": "2022-04-25T07:15:28.443672Z",
          "shell.execute_reply": "2022-04-25T07:15:28.442689Z",
          "shell.execute_reply.started": "2022-04-25T07:15:28.424558Z"
        },
        "id": "V0CwuAW62GxI"
      },
      "outputs": [],
      "source": [
        "articles.detail_desc.fillna(0, inplace=True)#replacing nulls with 0"
      ]
    },
    {
      "cell_type": "code",
      "execution_count": null,
      "metadata": {
        "execution": {
          "iopub.execute_input": "2022-04-25T07:15:28.445706Z",
          "iopub.status.busy": "2022-04-25T07:15:28.444914Z",
          "iopub.status.idle": "2022-04-25T07:15:28.626874Z",
          "shell.execute_reply": "2022-04-25T07:15:28.625926Z",
          "shell.execute_reply.started": "2022-04-25T07:15:28.445655Z"
        },
        "id": "3hkCKuZ72GxJ",
        "outputId": "d9552649-e181-4b0b-c5fa-37a4b1c3812b"
      },
      "outputs": [
        {
          "data": {
            "text/plain": [
              "article_id                      0\n",
              "product_code                    0\n",
              "prod_name                       0\n",
              "product_type_no                 0\n",
              "product_type_name               0\n",
              "product_group_name              0\n",
              "graphical_appearance_no         0\n",
              "graphical_appearance_name       0\n",
              "colour_group_code               0\n",
              "colour_group_name               0\n",
              "perceived_colour_value_id       0\n",
              "perceived_colour_value_name     0\n",
              "perceived_colour_master_id      0\n",
              "perceived_colour_master_name    0\n",
              "department_no                   0\n",
              "department_name                 0\n",
              "index_code                      0\n",
              "index_name                      0\n",
              "index_group_no                  0\n",
              "index_group_name                0\n",
              "section_no                      0\n",
              "section_name                    0\n",
              "garment_group_no                0\n",
              "garment_group_name              0\n",
              "detail_desc                     0\n",
              "dtype: int64"
            ]
          },
          "execution_count": 7,
          "metadata": {},
          "output_type": "execute_result"
        }
      ],
      "source": [
        "articles.isna().sum() #checking if all the nulls have been replaced"
      ]
    },
    {
      "cell_type": "code",
      "execution_count": null,
      "metadata": {
        "execution": {
          "iopub.execute_input": "2022-04-25T07:15:28.628570Z",
          "iopub.status.busy": "2022-04-25T07:15:28.628336Z",
          "iopub.status.idle": "2022-04-25T07:15:28.633918Z",
          "shell.execute_reply": "2022-04-25T07:15:28.633274Z",
          "shell.execute_reply.started": "2022-04-25T07:15:28.628542Z"
        },
        "id": "2VUrTt6K2GxJ",
        "outputId": "7c9b165c-2e51-4fcc-837c-5f0de7b0e326"
      },
      "outputs": [
        {
          "data": {
            "text/plain": [
              "(105542, 25)"
            ]
          },
          "execution_count": 8,
          "metadata": {},
          "output_type": "execute_result"
        }
      ],
      "source": [
        "articles.shape #(coulmns,rows) shape definition"
      ]
    },
    {
      "cell_type": "markdown",
      "metadata": {
        "id": "22kK5bE62GxK"
      },
      "source": [
        "Let's take a look at how the data is distributed this table articles\n"
      ]
    },
    {
      "cell_type": "code",
      "execution_count": null,
      "metadata": {
        "execution": {
          "iopub.execute_input": "2022-04-25T07:15:28.635824Z",
          "iopub.status.busy": "2022-04-25T07:15:28.635309Z",
          "iopub.status.idle": "2022-04-25T07:15:30.098711Z",
          "shell.execute_reply": "2022-04-25T07:15:30.098039Z",
          "shell.execute_reply.started": "2022-04-25T07:15:28.635769Z"
        },
        "id": "vL8LqLXb2GxK",
        "outputId": "b4cf6f69-07d6-4ec0-e79f-eae4f4a9b596"
      },
      "outputs": [
        {
          "data": {
            "image/png": "[encoded data removed]",
            "text/plain": [
              "<Figure size 576x576 with 1 Axes>"
            ]
          },
          "metadata": {
            "needs_background": "light"
          },
          "output_type": "display_data"
        }
      ],
      "source": [
        "#count of sections\n",
        "import seaborn as sns\n",
        "import matplotlib.pyplot as plt\n",
        "fig, x = plt.subplots(figsize = (8,8))\n",
        "x = sns.histplot(data=articles, x='index_group_name', color='firebrick')\n",
        "x.set_xlabel('sections')\n",
        "x.set_ylabel('count')\n",
        "plt.show()"
      ]
    },
    {
      "cell_type": "code",
      "execution_count": null,
      "metadata": {
        "execution": {
          "iopub.execute_input": "2022-04-25T07:15:30.102356Z",
          "iopub.status.busy": "2022-04-25T07:15:30.101539Z",
          "iopub.status.idle": "2022-04-25T07:15:30.532315Z",
          "shell.execute_reply": "2022-04-25T07:15:30.530986Z",
          "shell.execute_reply.started": "2022-04-25T07:15:30.102286Z"
        },
        "id": "ZnrSXRnW2GxK",
        "outputId": "35bd2117-481c-4848-afe7-b48b1c47a106"
      },
      "outputs": [
        {
          "data": {
            "image/png": "[encoded data removed]",
            "text/plain": [
              "<Figure size 1080x864 with 1 Axes>"
            ]
          },
          "metadata": {
            "needs_background": "light"
          },
          "output_type": "display_data"
        }
      ],
      "source": [
        "#counting the num of articles in each garment group\n",
        "p, bx = plt.subplots(figsize = (15,12))\n",
        "bx= sns.histplot(data=articles, y='garment_group_name', palette='Set2')\n",
        "bx.set_xlabel('count')\n",
        "bx.set_ylabel('garment group')\n",
        "plt.show()"
      ]
    },
    {
      "cell_type": "code",
      "execution_count": null,
      "metadata": {
        "execution": {
          "iopub.execute_input": "2022-04-25T07:15:30.534274Z",
          "iopub.status.busy": "2022-04-25T07:15:30.533911Z",
          "iopub.status.idle": "2022-04-25T07:15:30.863330Z",
          "shell.execute_reply": "2022-04-25T07:15:30.862373Z",
          "shell.execute_reply.started": "2022-04-25T07:15:30.534225Z"
        },
        "id": "qCdPcBOS2GxL",
        "outputId": "3cf09afe-b1d4-47ac-bc6a-998786a2ae2f"
      },
      "outputs": [
        {
          "data": {
            "image/png": "[encoded data removed]",
            "text/plain": [
              "<Figure size 1152x432 with 1 Axes>"
            ]
          },
          "metadata": {
            "needs_background": "light"
          },
          "output_type": "display_data"
        }
      ],
      "source": [
        "#number of articles in each department name \n",
        "temp = articles.groupby([\"department_name\"])[\"article_id\"].nunique()\n",
        "df = pd.DataFrame({'Department Name': temp.index,\n",
        "                   'Articles': temp.values\n",
        "                  })\n",
        "total_depts = len(df['Department Name'].unique())\n",
        "df = df.sort_values(['Articles'], ascending=False).head(20)\n",
        "plt.figure(figsize = (16,6))\n",
        "plt.title(f'Number of Articles per each Department (top 20 from total: {total_depts})')\n",
        "sns.set_color_codes(\"colorblind\")\n",
        "s = sns.barplot(x = 'Department Name', y=\"Articles\", data=df)\n",
        "s.set_xticklabels(s.get_xticklabels(),rotation=90)\n",
        "locs, labels = plt.xticks()\n",
        "plt.show()"
      ]
    },
    {
      "cell_type": "code",
      "execution_count": null,
      "metadata": {
        "execution": {
          "iopub.execute_input": "2022-04-25T07:15:30.865783Z",
          "iopub.status.busy": "2022-04-25T07:15:30.865142Z",
          "iopub.status.idle": "2022-04-25T07:15:31.001133Z",
          "shell.execute_reply": "2022-04-25T07:15:31.000241Z",
          "shell.execute_reply.started": "2022-04-25T07:15:30.865730Z"
        },
        "id": "XigEwhI02GxL",
        "outputId": "285dc423-7cba-4528-ec22-5b16b8d2baf4"
      },
      "outputs": [
        {
          "data": {
            "image/png": "[encoded data removed]",
            "text/plain": [
              "<Figure size 432x288 with 1 Axes>"
            ]
          },
          "metadata": {},
          "output_type": "display_data"
        },
        {
          "name": "stdout",
          "output_type": "stream",
          "text": [
            "Ladieswear       37.650414\n",
            "Baby/Children    32.888329\n",
            "Divided          14.353528\n",
            "Menswear         11.893843\n",
            "Sport             3.213886\n",
            "Name: index_group_name, dtype: float64\n"
          ]
        }
      ],
      "source": [
        "#calculating the distribution using a pie chart\n",
        "df1= articles['index_group_name'].value_counts()\n",
        "df2= articles['index_group_name'].unique().tolist()\n",
        "\n",
        "plt.pie(df1,labels=df2, radius=1.5)\n",
        "plt.show()\n",
        "print((df1/sum(df1))*100)#printing the percentage values of each group of garment"
      ]
    },
    {
      "cell_type": "markdown",
      "metadata": {
        "id": "6XFxfGKN2GxL"
      },
      "source": [
        "Let's take a look and analyze the customers relation\n"
      ]
    },
    {
      "cell_type": "code",
      "execution_count": null,
      "metadata": {
        "execution": {
          "iopub.execute_input": "2022-04-25T07:15:31.003388Z",
          "iopub.status.busy": "2022-04-25T07:15:31.002832Z",
          "iopub.status.idle": "2022-04-25T07:15:36.645039Z",
          "shell.execute_reply": "2022-04-25T07:15:36.644162Z",
          "shell.execute_reply.started": "2022-04-25T07:15:31.003337Z"
        },
        "id": "0BPxYmC62GxL",
        "outputId": "d13f6ad7-78e4-4e88-8c75-e66773cc8154"
      },
      "outputs": [
        {
          "data": {
            "text/html": [
              "<div>\n",
              "<style scoped>\n",
              "    .dataframe tbody tr th:only-of-type {\n",
              "        vertical-align: middle;\n",
              "    }\n",
              "\n",
              "    .dataframe tbody tr th {\n",
              "        vertical-align: top;\n",
              "    }\n",
              "\n",
              "    .dataframe thead th {\n",
              "        text-align: right;\n",
              "    }\n",
              "</style>\n",
              "<table border=\"1\" class=\"dataframe\">\n",
              "  <thead>\n",
              "    <tr style=\"text-align: right;\">\n",
              "      <th></th>\n",
              "      <th>customer_id</th>\n",
              "      <th>FN</th>\n",
              "      <th>Active</th>\n",
              "      <th>club_member_status</th>\n",
              "      <th>fashion_news_frequency</th>\n",
              "      <th>age</th>\n",
              "      <th>postal_code</th>\n",
              "    </tr>\n",
              "  </thead>\n",
              "  <tbody>\n",
              "    <tr>\n",
              "      <th>0</th>\n",
              "      <td>00000dbacae5abe5e23885899a1fa44253a17956c6d1c3...</td>\n",
              "      <td>NaN</td>\n",
              "      <td>NaN</td>\n",
              "      <td>ACTIVE</td>\n",
              "      <td>NONE</td>\n",
              "      <td>49.0</td>\n",
              "      <td>52043ee2162cf5aa7ee79974281641c6f11a68d276429a...</td>\n",
              "    </tr>\n",
              "    <tr>\n",
              "      <th>1</th>\n",
              "      <td>0000423b00ade91418cceaf3b26c6af3dd342b51fd051e...</td>\n",
              "      <td>NaN</td>\n",
              "      <td>NaN</td>\n",
              "      <td>ACTIVE</td>\n",
              "      <td>NONE</td>\n",
              "      <td>25.0</td>\n",
              "      <td>2973abc54daa8a5f8ccfe9362140c63247c5eee03f1d93...</td>\n",
              "    </tr>\n",
              "    <tr>\n",
              "      <th>2</th>\n",
              "      <td>000058a12d5b43e67d225668fa1f8d618c13dc232df0ca...</td>\n",
              "      <td>NaN</td>\n",
              "      <td>NaN</td>\n",
              "      <td>ACTIVE</td>\n",
              "      <td>NONE</td>\n",
              "      <td>24.0</td>\n",
              "      <td>64f17e6a330a85798e4998f62d0930d14db8db1c054af6...</td>\n",
              "    </tr>\n",
              "    <tr>\n",
              "      <th>3</th>\n",
              "      <td>00005ca1c9ed5f5146b52ac8639a40ca9d57aeff4d1bd2...</td>\n",
              "      <td>NaN</td>\n",
              "      <td>NaN</td>\n",
              "      <td>ACTIVE</td>\n",
              "      <td>NONE</td>\n",
              "      <td>54.0</td>\n",
              "      <td>5d36574f52495e81f019b680c843c443bd343d5ca5b1c2...</td>\n",
              "    </tr>\n",
              "    <tr>\n",
              "      <th>4</th>\n",
              "      <td>00006413d8573cd20ed7128e53b7b13819fe5cfc2d801f...</td>\n",
              "      <td>1.0</td>\n",
              "      <td>1.0</td>\n",
              "      <td>ACTIVE</td>\n",
              "      <td>Regularly</td>\n",
              "      <td>52.0</td>\n",
              "      <td>25fa5ddee9aac01b35208d01736e57942317d756b32ddd...</td>\n",
              "    </tr>\n",
              "  </tbody>\n",
              "</table>\n",
              "</div>"
            ],
            "text/plain": [
              "                                         customer_id   FN  Active  \\\n",
              "0  00000dbacae5abe5e23885899a1fa44253a17956c6d1c3...  NaN     NaN   \n",
              "1  0000423b00ade91418cceaf3b26c6af3dd342b51fd051e...  NaN     NaN   \n",
              "2  000058a12d5b43e67d225668fa1f8d618c13dc232df0ca...  NaN     NaN   \n",
              "3  00005ca1c9ed5f5146b52ac8639a40ca9d57aeff4d1bd2...  NaN     NaN   \n",
              "4  00006413d8573cd20ed7128e53b7b13819fe5cfc2d801f...  1.0     1.0   \n",
              "\n",
              "  club_member_status fashion_news_frequency   age  \\\n",
              "0             ACTIVE                   NONE  49.0   \n",
              "1             ACTIVE                   NONE  25.0   \n",
              "2             ACTIVE                   NONE  24.0   \n",
              "3             ACTIVE                   NONE  54.0   \n",
              "4             ACTIVE              Regularly  52.0   \n",
              "\n",
              "                                         postal_code  \n",
              "0  52043ee2162cf5aa7ee79974281641c6f11a68d276429a...  \n",
              "1  2973abc54daa8a5f8ccfe9362140c63247c5eee03f1d93...  \n",
              "2  64f17e6a330a85798e4998f62d0930d14db8db1c054af6...  \n",
              "3  5d36574f52495e81f019b680c843c443bd343d5ca5b1c2...  \n",
              "4  25fa5ddee9aac01b35208d01736e57942317d756b32ddd...  "
            ]
          },
          "execution_count": 13,
          "metadata": {},
          "output_type": "execute_result"
        }
      ],
      "source": [
        "customers= pd.read_csv('customers.csv')\n",
        "customers.head()"
      ]
    },
    {
      "cell_type": "code",
      "execution_count": null,
      "metadata": {
        "execution": {
          "iopub.execute_input": "2022-04-25T07:15:36.646325Z",
          "iopub.status.busy": "2022-04-25T07:15:36.646078Z",
          "iopub.status.idle": "2022-04-25T07:15:36.653052Z",
          "shell.execute_reply": "2022-04-25T07:15:36.652112Z",
          "shell.execute_reply.started": "2022-04-25T07:15:36.646296Z"
        },
        "id": "BA1PwmmL2GxM",
        "outputId": "6fb07533-a794-4a59-8a2c-9cca437a3550"
      },
      "outputs": [
        {
          "data": {
            "text/plain": [
              "Index(['customer_id', 'FN', 'Active', 'club_member_status',\n",
              "       'fashion_news_frequency', 'age', 'postal_code'],\n",
              "      dtype='object')"
            ]
          },
          "execution_count": 14,
          "metadata": {},
          "output_type": "execute_result"
        }
      ],
      "source": [
        "#taking a look at all the columns\n",
        "customers.columns"
      ]
    },
    {
      "cell_type": "code",
      "execution_count": null,
      "metadata": {
        "execution": {
          "iopub.execute_input": "2022-04-25T07:15:36.654602Z",
          "iopub.status.busy": "2022-04-25T07:15:36.654346Z",
          "iopub.status.idle": "2022-04-25T07:15:37.289001Z",
          "shell.execute_reply": "2022-04-25T07:15:37.287999Z",
          "shell.execute_reply.started": "2022-04-25T07:15:36.654572Z"
        },
        "id": "hMvNdQ6f2GxM",
        "outputId": "c43240ff-b50b-40cc-a825-de2b855e5d3c"
      },
      "outputs": [
        {
          "name": "stdout",
          "output_type": "stream",
          "text": [
            "<class 'pandas.core.frame.DataFrame'>\n",
            "RangeIndex: 1371980 entries, 0 to 1371979\n",
            "Data columns (total 7 columns):\n",
            " #   Column                  Non-Null Count    Dtype  \n",
            "---  ------                  --------------    -----  \n",
            " 0   customer_id             1371980 non-null  object \n",
            " 1   FN                      476930 non-null   float64\n",
            " 2   Active                  464404 non-null   float64\n",
            " 3   club_member_status      1365918 non-null  object \n",
            " 4   fashion_news_frequency  1355971 non-null  object \n",
            " 5   age                     1356119 non-null  float64\n",
            " 6   postal_code             1371980 non-null  object \n",
            "dtypes: float64(3), object(4)\n",
            "memory usage: 73.3+ MB\n"
          ]
        }
      ],
      "source": [
        "customers.info()\n",
        "#notice that this table is using up a space of 73.3+MB "
      ]
    },
    {
      "cell_type": "code",
      "execution_count": null,
      "metadata": {
        "execution": {
          "iopub.execute_input": "2022-04-25T07:15:37.291378Z",
          "iopub.status.busy": "2022-04-25T07:15:37.290408Z",
          "iopub.status.idle": "2022-04-25T07:15:37.902307Z",
          "shell.execute_reply": "2022-04-25T07:15:37.901118Z",
          "shell.execute_reply.started": "2022-04-25T07:15:37.291331Z"
        },
        "id": "o_Bu-d8X2GxM",
        "outputId": "4547f7d0-9cd8-4a8a-e168-f2b8d56b4079"
      },
      "outputs": [
        {
          "data": {
            "text/plain": [
              "customer_id                    0\n",
              "FN                        895050\n",
              "Active                    907576\n",
              "club_member_status          6062\n",
              "fashion_news_frequency     16009\n",
              "age                        15861\n",
              "postal_code                    0\n",
              "dtype: int64"
            ]
          },
          "execution_count": 16,
          "metadata": {},
          "output_type": "execute_result"
        }
      ],
      "source": [
        "customers.isna().sum() #checking null values"
      ]
    },
    {
      "cell_type": "code",
      "execution_count": null,
      "metadata": {
        "execution": {
          "iopub.execute_input": "2022-04-25T07:15:37.903915Z",
          "iopub.status.busy": "2022-04-25T07:15:37.903661Z",
          "iopub.status.idle": "2022-04-25T07:15:38.528523Z",
          "shell.execute_reply": "2022-04-25T07:15:38.527833Z",
          "shell.execute_reply.started": "2022-04-25T07:15:37.903886Z"
        },
        "id": "Wy5HnFwd2GxM"
      },
      "outputs": [],
      "source": [
        "customers.fillna(0, inplace=True)#replacing nulls with 0"
      ]
    },
    {
      "cell_type": "code",
      "execution_count": null,
      "metadata": {
        "execution": {
          "iopub.execute_input": "2022-04-25T07:15:38.530055Z",
          "iopub.status.busy": "2022-04-25T07:15:38.529686Z",
          "iopub.status.idle": "2022-04-25T07:15:39.144460Z",
          "shell.execute_reply": "2022-04-25T07:15:39.143578Z",
          "shell.execute_reply.started": "2022-04-25T07:15:38.530025Z"
        },
        "id": "aMljdYMr2GxM",
        "outputId": "0d6ad95f-ae86-4108-958a-ddd87e6e3388"
      },
      "outputs": [
        {
          "data": {
            "text/plain": [
              "customer_id               0\n",
              "FN                        0\n",
              "Active                    0\n",
              "club_member_status        0\n",
              "fashion_news_frequency    0\n",
              "age                       0\n",
              "postal_code               0\n",
              "dtype: int64"
            ]
          },
          "execution_count": 18,
          "metadata": {},
          "output_type": "execute_result"
        }
      ],
      "source": [
        "customers.isna().sum() #making sure all the null values are replaced with 0 "
      ]
    },
    {
      "cell_type": "code",
      "execution_count": null,
      "metadata": {
        "execution": {
          "iopub.execute_input": "2022-04-25T07:15:39.145957Z",
          "iopub.status.busy": "2022-04-25T07:15:39.145721Z",
          "iopub.status.idle": "2022-04-25T07:15:39.151103Z",
          "shell.execute_reply": "2022-04-25T07:15:39.150586Z",
          "shell.execute_reply.started": "2022-04-25T07:15:39.145928Z"
        },
        "id": "U88bkWzf2GxM",
        "outputId": "6399bcef-28cb-4d06-f740-593ae852819a"
      },
      "outputs": [
        {
          "data": {
            "text/plain": [
              "(1371980, 7)"
            ]
          },
          "execution_count": 19,
          "metadata": {},
          "output_type": "execute_result"
        }
      ],
      "source": [
        "customers.shape #look at how many rows and columns are in the customers.csv data"
      ]
    },
    {
      "cell_type": "code",
      "execution_count": null,
      "metadata": {
        "execution": {
          "iopub.execute_input": "2022-04-25T07:15:39.152752Z",
          "iopub.status.busy": "2022-04-25T07:15:39.152499Z",
          "iopub.status.idle": "2022-04-25T07:15:39.787393Z",
          "shell.execute_reply": "2022-04-25T07:15:39.786424Z",
          "shell.execute_reply.started": "2022-04-25T07:15:39.152715Z"
        },
        "id": "QZcI5ZH02GxN",
        "outputId": "6ed1608e-26b4-4abe-f8aa-7ad152f733dd"
      },
      "outputs": [
        {
          "data": {
            "image/png": "[encoded data removed]",
            "text/plain": [
              "<Figure size 1152x576 with 1 Axes>"
            ]
          },
          "metadata": {
            "needs_background": "light"
          },
          "output_type": "display_data"
        }
      ],
      "source": [
        "# finding the age distribution among the customers\n",
        "p, bx = plt.subplots(figsize = (16,8))\n",
        "sns.set_style(\"dark\")\n",
        "bx= sns.histplot(data=customers, x='age',bins=100, color='slateblue')\n",
        "plt.title('Count of customer ages')\n",
        "bx.set_xlabel('age')\n",
        "bx.set_ylabel('count')\n",
        "plt.show()"
      ]
    },
    {
      "cell_type": "markdown",
      "metadata": {
        "id": "Ie5MGv_z2GxN"
      },
      "source": [
        "The ages between 20 and 30 are the age groups involved in shopping the most at H&M"
      ]
    },
    {
      "cell_type": "markdown",
      "metadata": {
        "id": "921rDqMr2GxN"
      },
      "source": [
        "We can now move on to the transactions data"
      ]
    },
    {
      "cell_type": "code",
      "execution_count": null,
      "metadata": {
        "execution": {
          "iopub.execute_input": "2022-04-25T07:15:39.788841Z",
          "iopub.status.busy": "2022-04-25T07:15:39.788623Z",
          "iopub.status.idle": "2022-04-25T07:16:44.502881Z",
          "shell.execute_reply": "2022-04-25T07:16:44.502257Z",
          "shell.execute_reply.started": "2022-04-25T07:15:39.788815Z"
        },
        "id": "XryTQlsv2GxN",
        "outputId": "4a2fbf13-1b8f-4a10-bd3f-613c58e8a5b0"
      },
      "outputs": [
        {
          "data": {
            "text/html": [
              "<div>\n",
              "<style scoped>\n",
              "    .dataframe tbody tr th:only-of-type {\n",
              "        vertical-align: middle;\n",
              "    }\n",
              "\n",
              "    .dataframe tbody tr th {\n",
              "        vertical-align: top;\n",
              "    }\n",
              "\n",
              "    .dataframe thead th {\n",
              "        text-align: right;\n",
              "    }\n",
              "</style>\n",
              "<table border=\"1\" class=\"dataframe\">\n",
              "  <thead>\n",
              "    <tr style=\"text-align: right;\">\n",
              "      <th></th>\n",
              "      <th>t_dat</th>\n",
              "      <th>customer_id</th>\n",
              "      <th>article_id</th>\n",
              "      <th>price</th>\n",
              "      <th>sales_channel_id</th>\n",
              "    </tr>\n",
              "  </thead>\n",
              "  <tbody>\n",
              "    <tr>\n",
              "      <th>0</th>\n",
              "      <td>2018-09-20</td>\n",
              "      <td>000058a12d5b43e67d225668fa1f8d618c13dc232df0ca...</td>\n",
              "      <td>663713001</td>\n",
              "      <td>0.050831</td>\n",
              "      <td>2</td>\n",
              "    </tr>\n",
              "    <tr>\n",
              "      <th>1</th>\n",
              "      <td>2018-09-20</td>\n",
              "      <td>000058a12d5b43e67d225668fa1f8d618c13dc232df0ca...</td>\n",
              "      <td>541518023</td>\n",
              "      <td>0.030492</td>\n",
              "      <td>2</td>\n",
              "    </tr>\n",
              "    <tr>\n",
              "      <th>2</th>\n",
              "      <td>2018-09-20</td>\n",
              "      <td>00007d2de826758b65a93dd24ce629ed66842531df6699...</td>\n",
              "      <td>505221004</td>\n",
              "      <td>0.015237</td>\n",
              "      <td>2</td>\n",
              "    </tr>\n",
              "    <tr>\n",
              "      <th>3</th>\n",
              "      <td>2018-09-20</td>\n",
              "      <td>00007d2de826758b65a93dd24ce629ed66842531df6699...</td>\n",
              "      <td>685687003</td>\n",
              "      <td>0.016932</td>\n",
              "      <td>2</td>\n",
              "    </tr>\n",
              "    <tr>\n",
              "      <th>4</th>\n",
              "      <td>2018-09-20</td>\n",
              "      <td>00007d2de826758b65a93dd24ce629ed66842531df6699...</td>\n",
              "      <td>685687004</td>\n",
              "      <td>0.016932</td>\n",
              "      <td>2</td>\n",
              "    </tr>\n",
              "  </tbody>\n",
              "</table>\n",
              "</div>"
            ],
            "text/plain": [
              "        t_dat                                        customer_id  article_id  \\\n",
              "0  2018-09-20  000058a12d5b43e67d225668fa1f8d618c13dc232df0ca...   663713001   \n",
              "1  2018-09-20  000058a12d5b43e67d225668fa1f8d618c13dc232df0ca...   541518023   \n",
              "2  2018-09-20  00007d2de826758b65a93dd24ce629ed66842531df6699...   505221004   \n",
              "3  2018-09-20  00007d2de826758b65a93dd24ce629ed66842531df6699...   685687003   \n",
              "4  2018-09-20  00007d2de826758b65a93dd24ce629ed66842531df6699...   685687004   \n",
              "\n",
              "      price  sales_channel_id  \n",
              "0  0.050831                 2  \n",
              "1  0.030492                 2  \n",
              "2  0.015237                 2  \n",
              "3  0.016932                 2  \n",
              "4  0.016932                 2  "
            ]
          },
          "execution_count": 21,
          "metadata": {},
          "output_type": "execute_result"
        }
      ],
      "source": [
        "transactions= pd.read_csv('transactions_train.csv')\n",
        "\n",
        "transactions.head()"
      ]
    },
    {
      "cell_type": "code",
      "execution_count": null,
      "metadata": {
        "execution": {
          "iopub.execute_input": "2022-04-25T07:16:44.504427Z",
          "iopub.status.busy": "2022-04-25T07:16:44.504077Z",
          "iopub.status.idle": "2022-04-25T07:16:44.513690Z",
          "shell.execute_reply": "2022-04-25T07:16:44.512780Z",
          "shell.execute_reply.started": "2022-04-25T07:16:44.504398Z"
        },
        "id": "yHXgl3hM2GxN",
        "outputId": "62892f76-9a8d-436a-8a17-a3704e856677"
      },
      "outputs": [
        {
          "name": "stdout",
          "output_type": "stream",
          "text": [
            "<class 'pandas.core.frame.DataFrame'>\n",
            "RangeIndex: 31788324 entries, 0 to 31788323\n",
            "Data columns (total 5 columns):\n",
            " #   Column            Dtype  \n",
            "---  ------            -----  \n",
            " 0   t_dat             object \n",
            " 1   customer_id       object \n",
            " 2   article_id        int64  \n",
            " 3   price             float64\n",
            " 4   sales_channel_id  int64  \n",
            "dtypes: float64(1), int64(2), object(2)\n",
            "memory usage: 1.2+ GB\n"
          ]
        }
      ],
      "source": [
        "transactions.info()\n",
        "#this is using up 1.2+GB of machine data"
      ]
    },
    {
      "cell_type": "code",
      "execution_count": null,
      "metadata": {
        "execution": {
          "iopub.execute_input": "2022-04-25T07:16:44.515097Z",
          "iopub.status.busy": "2022-04-25T07:16:44.514856Z",
          "iopub.status.idle": "2022-04-25T07:16:53.512963Z",
          "shell.execute_reply": "2022-04-25T07:16:53.511996Z",
          "shell.execute_reply.started": "2022-04-25T07:16:44.515067Z"
        },
        "id": "gZXH-vx82GxN"
      },
      "outputs": [],
      "source": [
        "#merging transactions and articles tables on 'article_id'\n",
        "trans_articles= articles[['article_id', 'prod_name', 'product_type_name', 'product_group_name', 'index_name']]\n",
        "trans_articles= transactions.merge(trans_articles, on='article_id', how='left')"
      ]
    },
    {
      "cell_type": "code",
      "execution_count": null,
      "metadata": {
        "execution": {
          "iopub.execute_input": "2022-04-25T07:16:53.514589Z",
          "iopub.status.busy": "2022-04-25T07:16:53.514322Z",
          "iopub.status.idle": "2022-04-25T07:17:42.116291Z",
          "shell.execute_reply": "2022-04-25T07:17:42.115009Z",
          "shell.execute_reply.started": "2022-04-25T07:16:53.514556Z"
        },
        "id": "SomR546a2GxN",
        "outputId": "fcae0a4a-927c-49e9-8f1d-3027cdfb8994"
      },
      "outputs": [
        {
          "data": {
            "image/png": "[encoded data removed]",
            "text/plain": [
              "<Figure size 1152x576 with 1 Axes>"
            ]
          },
          "metadata": {},
          "output_type": "display_data"
        }
      ],
      "source": [
        "#count of transactions per index name\n",
        "p, x = plt.subplots(figsize = (16,8))\n",
        "sns.set_style(\"dark\")\n",
        "x= sns.histplot(data=trans_articles, y='index_name',bins=100, color='mediumorchid')\n",
        "plt.title('Count of transactions per index name')\n",
        "x.set_xlabel('count')\n",
        "x.set_ylabel('Index name')\n",
        "plt.show()"
      ]
    },
    {
      "cell_type": "code",
      "execution_count": null,
      "metadata": {
        "execution": {
          "iopub.execute_input": "2022-04-25T07:17:42.118260Z",
          "iopub.status.busy": "2022-04-25T07:17:42.117892Z",
          "iopub.status.idle": "2022-04-25T07:17:42.151093Z",
          "shell.execute_reply": "2022-04-25T07:17:42.150477Z",
          "shell.execute_reply.started": "2022-04-25T07:17:42.118190Z"
        },
        "id": "SMcBHPN22GxN",
        "outputId": "387c20a6-402f-4775-ed49-400f544532f6"
      },
      "outputs": [
        {
          "data": {
            "text/html": [
              "<div>\n",
              "<style scoped>\n",
              "    .dataframe tbody tr th:only-of-type {\n",
              "        vertical-align: middle;\n",
              "    }\n",
              "\n",
              "    .dataframe tbody tr th {\n",
              "        vertical-align: top;\n",
              "    }\n",
              "\n",
              "    .dataframe thead th {\n",
              "        text-align: right;\n",
              "    }\n",
              "</style>\n",
              "<table border=\"1\" class=\"dataframe\">\n",
              "  <thead>\n",
              "    <tr style=\"text-align: right;\">\n",
              "      <th></th>\n",
              "      <th>article_id</th>\n",
              "      <th>prod_name</th>\n",
              "      <th>product_type_name</th>\n",
              "      <th>product_group_name</th>\n",
              "      <th>graphical_appearance_name</th>\n",
              "      <th>colour_group_name</th>\n",
              "      <th>perceived_colour_value_name</th>\n",
              "      <th>perceived_colour_master_name</th>\n",
              "      <th>department_name</th>\n",
              "      <th>index_code</th>\n",
              "      <th>index_name</th>\n",
              "      <th>index_group_name</th>\n",
              "      <th>section_name</th>\n",
              "      <th>garment_group_name</th>\n",
              "      <th>detail_desc</th>\n",
              "    </tr>\n",
              "  </thead>\n",
              "  <tbody>\n",
              "    <tr>\n",
              "      <th>0</th>\n",
              "      <td>108775015</td>\n",
              "      <td>Strap top</td>\n",
              "      <td>Vest top</td>\n",
              "      <td>Garment Upper body</td>\n",
              "      <td>Solid</td>\n",
              "      <td>Black</td>\n",
              "      <td>Dark</td>\n",
              "      <td>Black</td>\n",
              "      <td>Jersey Basic</td>\n",
              "      <td>A</td>\n",
              "      <td>Ladieswear</td>\n",
              "      <td>Ladieswear</td>\n",
              "      <td>Womens Everyday Basics</td>\n",
              "      <td>Jersey Basic</td>\n",
              "      <td>Jersey top with narrow shoulder straps.</td>\n",
              "    </tr>\n",
              "    <tr>\n",
              "      <th>1</th>\n",
              "      <td>108775044</td>\n",
              "      <td>Strap top</td>\n",
              "      <td>Vest top</td>\n",
              "      <td>Garment Upper body</td>\n",
              "      <td>Solid</td>\n",
              "      <td>White</td>\n",
              "      <td>Light</td>\n",
              "      <td>White</td>\n",
              "      <td>Jersey Basic</td>\n",
              "      <td>A</td>\n",
              "      <td>Ladieswear</td>\n",
              "      <td>Ladieswear</td>\n",
              "      <td>Womens Everyday Basics</td>\n",
              "      <td>Jersey Basic</td>\n",
              "      <td>Jersey top with narrow shoulder straps.</td>\n",
              "    </tr>\n",
              "    <tr>\n",
              "      <th>2</th>\n",
              "      <td>108775051</td>\n",
              "      <td>Strap top (1)</td>\n",
              "      <td>Vest top</td>\n",
              "      <td>Garment Upper body</td>\n",
              "      <td>Stripe</td>\n",
              "      <td>Off White</td>\n",
              "      <td>Dusty Light</td>\n",
              "      <td>White</td>\n",
              "      <td>Jersey Basic</td>\n",
              "      <td>A</td>\n",
              "      <td>Ladieswear</td>\n",
              "      <td>Ladieswear</td>\n",
              "      <td>Womens Everyday Basics</td>\n",
              "      <td>Jersey Basic</td>\n",
              "      <td>Jersey top with narrow shoulder straps.</td>\n",
              "    </tr>\n",
              "    <tr>\n",
              "      <th>3</th>\n",
              "      <td>110065001</td>\n",
              "      <td>OP T-shirt (Idro)</td>\n",
              "      <td>Bra</td>\n",
              "      <td>Underwear</td>\n",
              "      <td>Solid</td>\n",
              "      <td>Black</td>\n",
              "      <td>Dark</td>\n",
              "      <td>Black</td>\n",
              "      <td>Clean Lingerie</td>\n",
              "      <td>B</td>\n",
              "      <td>Lingeries/Tights</td>\n",
              "      <td>Ladieswear</td>\n",
              "      <td>Womens Lingerie</td>\n",
              "      <td>Under-, Nightwear</td>\n",
              "      <td>Microfibre T-shirt bra with underwired, moulde...</td>\n",
              "    </tr>\n",
              "    <tr>\n",
              "      <th>4</th>\n",
              "      <td>110065002</td>\n",
              "      <td>OP T-shirt (Idro)</td>\n",
              "      <td>Bra</td>\n",
              "      <td>Underwear</td>\n",
              "      <td>Solid</td>\n",
              "      <td>White</td>\n",
              "      <td>Light</td>\n",
              "      <td>White</td>\n",
              "      <td>Clean Lingerie</td>\n",
              "      <td>B</td>\n",
              "      <td>Lingeries/Tights</td>\n",
              "      <td>Ladieswear</td>\n",
              "      <td>Womens Lingerie</td>\n",
              "      <td>Under-, Nightwear</td>\n",
              "      <td>Microfibre T-shirt bra with underwired, moulde...</td>\n",
              "    </tr>\n",
              "  </tbody>\n",
              "</table>\n",
              "</div>"
            ],
            "text/plain": [
              "   article_id          prod_name product_type_name  product_group_name  \\\n",
              "0   108775015          Strap top          Vest top  Garment Upper body   \n",
              "1   108775044          Strap top          Vest top  Garment Upper body   \n",
              "2   108775051      Strap top (1)          Vest top  Garment Upper body   \n",
              "3   110065001  OP T-shirt (Idro)               Bra           Underwear   \n",
              "4   110065002  OP T-shirt (Idro)               Bra           Underwear   \n",
              "\n",
              "  graphical_appearance_name colour_group_name perceived_colour_value_name  \\\n",
              "0                     Solid             Black                        Dark   \n",
              "1                     Solid             White                       Light   \n",
              "2                    Stripe         Off White                 Dusty Light   \n",
              "3                     Solid             Black                        Dark   \n",
              "4                     Solid             White                       Light   \n",
              "\n",
              "  perceived_colour_master_name department_name index_code        index_name  \\\n",
              "0                        Black    Jersey Basic          A        Ladieswear   \n",
              "1                        White    Jersey Basic          A        Ladieswear   \n",
              "2                        White    Jersey Basic          A        Ladieswear   \n",
              "3                        Black  Clean Lingerie          B  Lingeries/Tights   \n",
              "4                        White  Clean Lingerie          B  Lingeries/Tights   \n",
              "\n",
              "  index_group_name            section_name garment_group_name  \\\n",
              "0       Ladieswear  Womens Everyday Basics       Jersey Basic   \n",
              "1       Ladieswear  Womens Everyday Basics       Jersey Basic   \n",
              "2       Ladieswear  Womens Everyday Basics       Jersey Basic   \n",
              "3       Ladieswear         Womens Lingerie  Under-, Nightwear   \n",
              "4       Ladieswear         Womens Lingerie  Under-, Nightwear   \n",
              "\n",
              "                                         detail_desc  \n",
              "0            Jersey top with narrow shoulder straps.  \n",
              "1            Jersey top with narrow shoulder straps.  \n",
              "2            Jersey top with narrow shoulder straps.  \n",
              "3  Microfibre T-shirt bra with underwired, moulde...  \n",
              "4  Microfibre T-shirt bra with underwired, moulde...  "
            ]
          },
          "execution_count": 25,
          "metadata": {},
          "output_type": "execute_result"
        }
      ],
      "source": [
        "#eliminate the aplha-numeric columns in order to make it viable for TF-IDF\n",
        "art_req= articles[['article_id', 'prod_name',\n",
        "       'product_type_name', 'product_group_name',\n",
        "       'graphical_appearance_name', 'colour_group_name','perceived_colour_value_name', \n",
        "       'perceived_colour_master_name', 'department_name', \n",
        "       'index_code', 'index_name', 'index_group_name', \n",
        "       'section_name','garment_group_name', 'detail_desc']]\n",
        "art_req.head()\n"
      ]
    },
    {
      "cell_type": "code",
      "execution_count": null,
      "metadata": {
        "execution": {
          "iopub.execute_input": "2022-04-25T07:17:42.152653Z",
          "iopub.status.busy": "2022-04-25T07:17:42.152417Z",
          "iopub.status.idle": "2022-04-25T07:17:42.158974Z",
          "shell.execute_reply": "2022-04-25T07:17:42.158358Z",
          "shell.execute_reply.started": "2022-04-25T07:17:42.152626Z"
        },
        "id": "69B8-7ef2GxN",
        "outputId": "c59d4d0b-01b2-40bc-9df8-c9ada1d09566"
      },
      "outputs": [
        {
          "data": {
            "text/plain": [
              "(105542, 15)"
            ]
          },
          "execution_count": 26,
          "metadata": {},
          "output_type": "execute_result"
        }
      ],
      "source": [
        "art_req.shape"
      ]
    },
    {
      "cell_type": "code",
      "execution_count": null,
      "metadata": {
        "execution": {
          "iopub.execute_input": "2022-04-25T07:17:42.160823Z",
          "iopub.status.busy": "2022-04-25T07:17:42.160150Z",
          "iopub.status.idle": "2022-04-25T07:17:43.348026Z",
          "shell.execute_reply": "2022-04-25T07:17:43.347109Z",
          "shell.execute_reply.started": "2022-04-25T07:17:42.160768Z"
        },
        "id": "8Sc2VS-F2GxN",
        "outputId": "6243d00e-db2e-4fe4-f1ee-404d8c7325f4"
      },
      "outputs": [
        {
          "data": {
            "text/plain": [
              "0                        Jerseytopwithnarrowshoulderstraps.\n",
              "1                        Jerseytopwithnarrowshoulderstraps.\n",
              "2                        Jerseytopwithnarrowshoulderstraps.\n",
              "3         MicrofibreT-shirtbrawithunderwired,moulded,lig...\n",
              "4         MicrofibreT-shirtbrawithunderwired,moulded,lig...\n",
              "                                ...                        \n",
              "105537    Socksinafine-knitcottonblendwithasmallmotifatt...\n",
              "105538    Loose-fittingsportsvesttopinribbedfast-dryingf...\n",
              "105539    Short,A-linedressinjerseywitharoundnecklineand...\n",
              "105540                                Largeplastichairclaw.\n",
              "105541    Calf-lengthdressinribbedjerseymadefromacottonb...\n",
              "Name: detail_desc, Length: 105542, dtype: object"
            ]
          },
          "execution_count": 27,
          "metadata": {},
          "output_type": "execute_result"
        }
      ],
      "source": [
        "#removing all spaces in all individual columns\n",
        "art_req['prod_name'].str.replace(\" \",\"\")\n",
        "art_req['product_type_name'].str.replace(\" \",\"\")\n",
        "art_req['product_group_name'].str.replace(\" \",\"\")\n",
        "art_req['graphical_appearance_name'].str.replace(\" \",\"\")\n",
        "art_req['colour_group_name'].str.replace(\" \",\"\")\n",
        "art_req['perceived_colour_value_name'].str.replace(\" \",\"\")\n",
        "art_req['perceived_colour_master_name'].str.replace(\" \",\"\")\n",
        "art_req['department_name'].str.replace(\" \",\"\")\n",
        "art_req['index_code'].str.replace(\" \",\"\")\n",
        "art_req['index_name'].str.replace(\" \",\"\")\n",
        "art_req['index_group_name'].str.replace(\" \",\"\")\n",
        "art_req['section_name'].str.replace(\" \",\"\")\n",
        "art_req['garment_group_name'].str.replace(\" \",\"\")\n",
        "art_req['detail_desc'].str.replace(\" \",\"\")"
      ]
    },
    {
      "cell_type": "code",
      "execution_count": null,
      "metadata": {
        "execution": {
          "iopub.execute_input": "2022-04-25T07:17:43.352898Z",
          "iopub.status.busy": "2022-04-25T07:17:43.352669Z",
          "iopub.status.idle": "2022-04-25T07:17:43.375415Z",
          "shell.execute_reply": "2022-04-25T07:17:43.374531Z",
          "shell.execute_reply.started": "2022-04-25T07:17:43.352870Z"
        },
        "id": "Djjwe8Eh2GxO",
        "outputId": "ef8bb6f3-637c-495a-cacd-b7a0ef23781f"
      },
      "outputs": [
        {
          "data": {
            "text/html": [
              "<div>\n",
              "<style scoped>\n",
              "    .dataframe tbody tr th:only-of-type {\n",
              "        vertical-align: middle;\n",
              "    }\n",
              "\n",
              "    .dataframe tbody tr th {\n",
              "        vertical-align: top;\n",
              "    }\n",
              "\n",
              "    .dataframe thead th {\n",
              "        text-align: right;\n",
              "    }\n",
              "</style>\n",
              "<table border=\"1\" class=\"dataframe\">\n",
              "  <thead>\n",
              "    <tr style=\"text-align: right;\">\n",
              "      <th></th>\n",
              "      <th>article_id</th>\n",
              "      <th>prod_name</th>\n",
              "      <th>product_type_name</th>\n",
              "      <th>product_group_name</th>\n",
              "      <th>graphical_appearance_name</th>\n",
              "      <th>colour_group_name</th>\n",
              "      <th>perceived_colour_value_name</th>\n",
              "      <th>perceived_colour_master_name</th>\n",
              "      <th>department_name</th>\n",
              "      <th>index_code</th>\n",
              "      <th>index_name</th>\n",
              "      <th>index_group_name</th>\n",
              "      <th>section_name</th>\n",
              "      <th>garment_group_name</th>\n",
              "      <th>detail_desc</th>\n",
              "    </tr>\n",
              "  </thead>\n",
              "  <tbody>\n",
              "    <tr>\n",
              "      <th>0</th>\n",
              "      <td>108775015</td>\n",
              "      <td>Strap top</td>\n",
              "      <td>Vest top</td>\n",
              "      <td>Garment Upper body</td>\n",
              "      <td>Solid</td>\n",
              "      <td>Black</td>\n",
              "      <td>Dark</td>\n",
              "      <td>Black</td>\n",
              "      <td>Jersey Basic</td>\n",
              "      <td>A</td>\n",
              "      <td>Ladieswear</td>\n",
              "      <td>Ladieswear</td>\n",
              "      <td>Womens Everyday Basics</td>\n",
              "      <td>Jersey Basic</td>\n",
              "      <td>Jersey top with narrow shoulder straps.</td>\n",
              "    </tr>\n",
              "    <tr>\n",
              "      <th>1</th>\n",
              "      <td>108775044</td>\n",
              "      <td>Strap top</td>\n",
              "      <td>Vest top</td>\n",
              "      <td>Garment Upper body</td>\n",
              "      <td>Solid</td>\n",
              "      <td>White</td>\n",
              "      <td>Light</td>\n",
              "      <td>White</td>\n",
              "      <td>Jersey Basic</td>\n",
              "      <td>A</td>\n",
              "      <td>Ladieswear</td>\n",
              "      <td>Ladieswear</td>\n",
              "      <td>Womens Everyday Basics</td>\n",
              "      <td>Jersey Basic</td>\n",
              "      <td>Jersey top with narrow shoulder straps.</td>\n",
              "    </tr>\n",
              "    <tr>\n",
              "      <th>2</th>\n",
              "      <td>108775051</td>\n",
              "      <td>Strap top (1)</td>\n",
              "      <td>Vest top</td>\n",
              "      <td>Garment Upper body</td>\n",
              "      <td>Stripe</td>\n",
              "      <td>Off White</td>\n",
              "      <td>Dusty Light</td>\n",
              "      <td>White</td>\n",
              "      <td>Jersey Basic</td>\n",
              "      <td>A</td>\n",
              "      <td>Ladieswear</td>\n",
              "      <td>Ladieswear</td>\n",
              "      <td>Womens Everyday Basics</td>\n",
              "      <td>Jersey Basic</td>\n",
              "      <td>Jersey top with narrow shoulder straps.</td>\n",
              "    </tr>\n",
              "    <tr>\n",
              "      <th>3</th>\n",
              "      <td>110065001</td>\n",
              "      <td>OP T-shirt (Idro)</td>\n",
              "      <td>Bra</td>\n",
              "      <td>Underwear</td>\n",
              "      <td>Solid</td>\n",
              "      <td>Black</td>\n",
              "      <td>Dark</td>\n",
              "      <td>Black</td>\n",
              "      <td>Clean Lingerie</td>\n",
              "      <td>B</td>\n",
              "      <td>Lingeries/Tights</td>\n",
              "      <td>Ladieswear</td>\n",
              "      <td>Womens Lingerie</td>\n",
              "      <td>Under-, Nightwear</td>\n",
              "      <td>Microfibre T-shirt bra with underwired, moulde...</td>\n",
              "    </tr>\n",
              "    <tr>\n",
              "      <th>4</th>\n",
              "      <td>110065002</td>\n",
              "      <td>OP T-shirt (Idro)</td>\n",
              "      <td>Bra</td>\n",
              "      <td>Underwear</td>\n",
              "      <td>Solid</td>\n",
              "      <td>White</td>\n",
              "      <td>Light</td>\n",
              "      <td>White</td>\n",
              "      <td>Clean Lingerie</td>\n",
              "      <td>B</td>\n",
              "      <td>Lingeries/Tights</td>\n",
              "      <td>Ladieswear</td>\n",
              "      <td>Womens Lingerie</td>\n",
              "      <td>Under-, Nightwear</td>\n",
              "      <td>Microfibre T-shirt bra with underwired, moulde...</td>\n",
              "    </tr>\n",
              "  </tbody>\n",
              "</table>\n",
              "</div>"
            ],
            "text/plain": [
              "   article_id          prod_name product_type_name  product_group_name  \\\n",
              "0   108775015          Strap top          Vest top  Garment Upper body   \n",
              "1   108775044          Strap top          Vest top  Garment Upper body   \n",
              "2   108775051      Strap top (1)          Vest top  Garment Upper body   \n",
              "3   110065001  OP T-shirt (Idro)               Bra           Underwear   \n",
              "4   110065002  OP T-shirt (Idro)               Bra           Underwear   \n",
              "\n",
              "  graphical_appearance_name colour_group_name perceived_colour_value_name  \\\n",
              "0                     Solid             Black                        Dark   \n",
              "1                     Solid             White                       Light   \n",
              "2                    Stripe         Off White                 Dusty Light   \n",
              "3                     Solid             Black                        Dark   \n",
              "4                     Solid             White                       Light   \n",
              "\n",
              "  perceived_colour_master_name department_name index_code        index_name  \\\n",
              "0                        Black    Jersey Basic          A        Ladieswear   \n",
              "1                        White    Jersey Basic          A        Ladieswear   \n",
              "2                        White    Jersey Basic          A        Ladieswear   \n",
              "3                        Black  Clean Lingerie          B  Lingeries/Tights   \n",
              "4                        White  Clean Lingerie          B  Lingeries/Tights   \n",
              "\n",
              "  index_group_name            section_name garment_group_name  \\\n",
              "0       Ladieswear  Womens Everyday Basics       Jersey Basic   \n",
              "1       Ladieswear  Womens Everyday Basics       Jersey Basic   \n",
              "2       Ladieswear  Womens Everyday Basics       Jersey Basic   \n",
              "3       Ladieswear         Womens Lingerie  Under-, Nightwear   \n",
              "4       Ladieswear         Womens Lingerie  Under-, Nightwear   \n",
              "\n",
              "                                         detail_desc  \n",
              "0            Jersey top with narrow shoulder straps.  \n",
              "1            Jersey top with narrow shoulder straps.  \n",
              "2            Jersey top with narrow shoulder straps.  \n",
              "3  Microfibre T-shirt bra with underwired, moulde...  \n",
              "4  Microfibre T-shirt bra with underwired, moulde...  "
            ]
          },
          "execution_count": 28,
          "metadata": {},
          "output_type": "execute_result"
        }
      ],
      "source": [
        "art_req.head()#printing the df with all the spaces removed"
      ]
    },
    {
      "cell_type": "code",
      "execution_count": null,
      "metadata": {
        "execution": {
          "iopub.execute_input": "2022-04-25T07:17:43.378405Z",
          "iopub.status.busy": "2022-04-25T07:17:43.376790Z",
          "iopub.status.idle": "2022-04-25T07:17:46.594819Z",
          "shell.execute_reply": "2022-04-25T07:17:46.593432Z",
          "shell.execute_reply.started": "2022-04-25T07:17:43.378352Z"
        },
        "id": "wLHktycs2GxO",
        "outputId": "3afab947-b8a6-4e44-a1a6-fce52aaa68ff"
      },
      "outputs": [
        {
          "name": "stderr",
          "output_type": "stream",
          "text": [
            "C:\\Users\\rahul\\AppData\\Local\\Temp/ipykernel_20344/1310532579.py:6: SettingWithCopyWarning: \n",
            "A value is trying to be set on a copy of a slice from a DataFrame.\n",
            "Try using .loc[row_indexer,col_indexer] = value instead\n",
            "\n",
            "See the caveats in the documentation: https://pandas.pydata.org/pandas-docs/stable/user_guide/indexing.html#returning-a-view-versus-a-copy\n",
            "  art_req['combined_article_desc'] = art_req[combined_columns].apply(lambda row: ' '.join(row.values.astype(str)), axis=1)\n"
          ]
        }
      ],
      "source": [
        "#removing columns that has alpha-numeric attributes to make tf-idf computations\n",
        "combined_columns= ['prod_name', 'product_type_name', 'product_group_name',\n",
        "       'graphical_appearance_name', 'colour_group_name','index_name',\n",
        "       'perceived_colour_value_name', 'perceived_colour_master_name',\n",
        "       'department_name', 'index_name', 'index_group_name', 'section_name',\n",
        "       'garment_group_name', 'detail_desc']\n",
        "art_req['combined_article_desc'] = art_req[combined_columns].apply(lambda row: ' '.join(row.values.astype(str)), axis=1)"
      ]
    },
    {
      "cell_type": "code",
      "execution_count": null,
      "metadata": {
        "execution": {
          "iopub.execute_input": "2022-04-25T07:17:46.597360Z",
          "iopub.status.busy": "2022-04-25T07:17:46.596412Z",
          "iopub.status.idle": "2022-04-25T07:17:46.620612Z",
          "shell.execute_reply": "2022-04-25T07:17:46.619718Z",
          "shell.execute_reply.started": "2022-04-25T07:17:46.597310Z"
        },
        "id": "_xYPD94A2GxO",
        "outputId": "f6e90da0-7fcb-4cef-d469-41f35bdb243f"
      },
      "outputs": [
        {
          "data": {
            "text/html": [
              "<div>\n",
              "<style scoped>\n",
              "    .dataframe tbody tr th:only-of-type {\n",
              "        vertical-align: middle;\n",
              "    }\n",
              "\n",
              "    .dataframe tbody tr th {\n",
              "        vertical-align: top;\n",
              "    }\n",
              "\n",
              "    .dataframe thead th {\n",
              "        text-align: right;\n",
              "    }\n",
              "</style>\n",
              "<table border=\"1\" class=\"dataframe\">\n",
              "  <thead>\n",
              "    <tr style=\"text-align: right;\">\n",
              "      <th></th>\n",
              "      <th>article_id</th>\n",
              "      <th>prod_name</th>\n",
              "      <th>product_type_name</th>\n",
              "      <th>product_group_name</th>\n",
              "      <th>graphical_appearance_name</th>\n",
              "      <th>colour_group_name</th>\n",
              "      <th>perceived_colour_value_name</th>\n",
              "      <th>perceived_colour_master_name</th>\n",
              "      <th>department_name</th>\n",
              "      <th>index_code</th>\n",
              "      <th>index_name</th>\n",
              "      <th>index_group_name</th>\n",
              "      <th>section_name</th>\n",
              "      <th>garment_group_name</th>\n",
              "      <th>detail_desc</th>\n",
              "      <th>combined_article_desc</th>\n",
              "    </tr>\n",
              "  </thead>\n",
              "  <tbody>\n",
              "    <tr>\n",
              "      <th>0</th>\n",
              "      <td>108775015</td>\n",
              "      <td>Strap top</td>\n",
              "      <td>Vest top</td>\n",
              "      <td>Garment Upper body</td>\n",
              "      <td>Solid</td>\n",
              "      <td>Black</td>\n",
              "      <td>Dark</td>\n",
              "      <td>Black</td>\n",
              "      <td>Jersey Basic</td>\n",
              "      <td>A</td>\n",
              "      <td>Ladieswear</td>\n",
              "      <td>Ladieswear</td>\n",
              "      <td>Womens Everyday Basics</td>\n",
              "      <td>Jersey Basic</td>\n",
              "      <td>Jersey top with narrow shoulder straps.</td>\n",
              "      <td>Strap top Vest top Garment Upper body Solid Bl...</td>\n",
              "    </tr>\n",
              "    <tr>\n",
              "      <th>1</th>\n",
              "      <td>108775044</td>\n",
              "      <td>Strap top</td>\n",
              "      <td>Vest top</td>\n",
              "      <td>Garment Upper body</td>\n",
              "      <td>Solid</td>\n",
              "      <td>White</td>\n",
              "      <td>Light</td>\n",
              "      <td>White</td>\n",
              "      <td>Jersey Basic</td>\n",
              "      <td>A</td>\n",
              "      <td>Ladieswear</td>\n",
              "      <td>Ladieswear</td>\n",
              "      <td>Womens Everyday Basics</td>\n",
              "      <td>Jersey Basic</td>\n",
              "      <td>Jersey top with narrow shoulder straps.</td>\n",
              "      <td>Strap top Vest top Garment Upper body Solid Wh...</td>\n",
              "    </tr>\n",
              "    <tr>\n",
              "      <th>2</th>\n",
              "      <td>108775051</td>\n",
              "      <td>Strap top (1)</td>\n",
              "      <td>Vest top</td>\n",
              "      <td>Garment Upper body</td>\n",
              "      <td>Stripe</td>\n",
              "      <td>Off White</td>\n",
              "      <td>Dusty Light</td>\n",
              "      <td>White</td>\n",
              "      <td>Jersey Basic</td>\n",
              "      <td>A</td>\n",
              "      <td>Ladieswear</td>\n",
              "      <td>Ladieswear</td>\n",
              "      <td>Womens Everyday Basics</td>\n",
              "      <td>Jersey Basic</td>\n",
              "      <td>Jersey top with narrow shoulder straps.</td>\n",
              "      <td>Strap top (1) Vest top Garment Upper body Stri...</td>\n",
              "    </tr>\n",
              "    <tr>\n",
              "      <th>3</th>\n",
              "      <td>110065001</td>\n",
              "      <td>OP T-shirt (Idro)</td>\n",
              "      <td>Bra</td>\n",
              "      <td>Underwear</td>\n",
              "      <td>Solid</td>\n",
              "      <td>Black</td>\n",
              "      <td>Dark</td>\n",
              "      <td>Black</td>\n",
              "      <td>Clean Lingerie</td>\n",
              "      <td>B</td>\n",
              "      <td>Lingeries/Tights</td>\n",
              "      <td>Ladieswear</td>\n",
              "      <td>Womens Lingerie</td>\n",
              "      <td>Under-, Nightwear</td>\n",
              "      <td>Microfibre T-shirt bra with underwired, moulde...</td>\n",
              "      <td>OP T-shirt (Idro) Bra Underwear Solid Black Li...</td>\n",
              "    </tr>\n",
              "    <tr>\n",
              "      <th>4</th>\n",
              "      <td>110065002</td>\n",
              "      <td>OP T-shirt (Idro)</td>\n",
              "      <td>Bra</td>\n",
              "      <td>Underwear</td>\n",
              "      <td>Solid</td>\n",
              "      <td>White</td>\n",
              "      <td>Light</td>\n",
              "      <td>White</td>\n",
              "      <td>Clean Lingerie</td>\n",
              "      <td>B</td>\n",
              "      <td>Lingeries/Tights</td>\n",
              "      <td>Ladieswear</td>\n",
              "      <td>Womens Lingerie</td>\n",
              "      <td>Under-, Nightwear</td>\n",
              "      <td>Microfibre T-shirt bra with underwired, moulde...</td>\n",
              "      <td>OP T-shirt (Idro) Bra Underwear Solid White Li...</td>\n",
              "    </tr>\n",
              "  </tbody>\n",
              "</table>\n",
              "</div>"
            ],
            "text/plain": [
              "   article_id          prod_name product_type_name  product_group_name  \\\n",
              "0   108775015          Strap top          Vest top  Garment Upper body   \n",
              "1   108775044          Strap top          Vest top  Garment Upper body   \n",
              "2   108775051      Strap top (1)          Vest top  Garment Upper body   \n",
              "3   110065001  OP T-shirt (Idro)               Bra           Underwear   \n",
              "4   110065002  OP T-shirt (Idro)               Bra           Underwear   \n",
              "\n",
              "  graphical_appearance_name colour_group_name perceived_colour_value_name  \\\n",
              "0                     Solid             Black                        Dark   \n",
              "1                     Solid             White                       Light   \n",
              "2                    Stripe         Off White                 Dusty Light   \n",
              "3                     Solid             Black                        Dark   \n",
              "4                     Solid             White                       Light   \n",
              "\n",
              "  perceived_colour_master_name department_name index_code        index_name  \\\n",
              "0                        Black    Jersey Basic          A        Ladieswear   \n",
              "1                        White    Jersey Basic          A        Ladieswear   \n",
              "2                        White    Jersey Basic          A        Ladieswear   \n",
              "3                        Black  Clean Lingerie          B  Lingeries/Tights   \n",
              "4                        White  Clean Lingerie          B  Lingeries/Tights   \n",
              "\n",
              "  index_group_name            section_name garment_group_name  \\\n",
              "0       Ladieswear  Womens Everyday Basics       Jersey Basic   \n",
              "1       Ladieswear  Womens Everyday Basics       Jersey Basic   \n",
              "2       Ladieswear  Womens Everyday Basics       Jersey Basic   \n",
              "3       Ladieswear         Womens Lingerie  Under-, Nightwear   \n",
              "4       Ladieswear         Womens Lingerie  Under-, Nightwear   \n",
              "\n",
              "                                         detail_desc  \\\n",
              "0            Jersey top with narrow shoulder straps.   \n",
              "1            Jersey top with narrow shoulder straps.   \n",
              "2            Jersey top with narrow shoulder straps.   \n",
              "3  Microfibre T-shirt bra with underwired, moulde...   \n",
              "4  Microfibre T-shirt bra with underwired, moulde...   \n",
              "\n",
              "                               combined_article_desc  \n",
              "0  Strap top Vest top Garment Upper body Solid Bl...  \n",
              "1  Strap top Vest top Garment Upper body Solid Wh...  \n",
              "2  Strap top (1) Vest top Garment Upper body Stri...  \n",
              "3  OP T-shirt (Idro) Bra Underwear Solid Black Li...  \n",
              "4  OP T-shirt (Idro) Bra Underwear Solid White Li...  "
            ]
          },
          "execution_count": 30,
          "metadata": {},
          "output_type": "execute_result"
        }
      ],
      "source": [
        "art_req.head()"
      ]
    },
    {
      "cell_type": "code",
      "execution_count": null,
      "metadata": {
        "execution": {
          "iopub.execute_input": "2022-04-25T07:17:46.622773Z",
          "iopub.status.busy": "2022-04-25T07:17:46.622075Z",
          "iopub.status.idle": "2022-04-25T07:17:46.666015Z",
          "shell.execute_reply": "2022-04-25T07:17:46.665111Z",
          "shell.execute_reply.started": "2022-04-25T07:17:46.622733Z"
        },
        "id": "HKw4vZvc2GxO",
        "outputId": "a550e658-59cb-4c5b-afff-017452fc0ddb"
      },
      "outputs": [
        {
          "data": {
            "text/html": [
              "<div>\n",
              "<style scoped>\n",
              "    .dataframe tbody tr th:only-of-type {\n",
              "        vertical-align: middle;\n",
              "    }\n",
              "\n",
              "    .dataframe tbody tr th {\n",
              "        vertical-align: top;\n",
              "    }\n",
              "\n",
              "    .dataframe thead th {\n",
              "        text-align: right;\n",
              "    }\n",
              "</style>\n",
              "<table border=\"1\" class=\"dataframe\">\n",
              "  <thead>\n",
              "    <tr style=\"text-align: right;\">\n",
              "      <th></th>\n",
              "      <th>article_id</th>\n",
              "      <th>combined_article_desc</th>\n",
              "    </tr>\n",
              "  </thead>\n",
              "  <tbody>\n",
              "    <tr>\n",
              "      <th>0</th>\n",
              "      <td>108775015</td>\n",
              "      <td>Strap top Vest top Garment Upper body Solid Bl...</td>\n",
              "    </tr>\n",
              "    <tr>\n",
              "      <th>1</th>\n",
              "      <td>108775044</td>\n",
              "      <td>Strap top Vest top Garment Upper body Solid Wh...</td>\n",
              "    </tr>\n",
              "    <tr>\n",
              "      <th>2</th>\n",
              "      <td>108775051</td>\n",
              "      <td>Strap top (1) Vest top Garment Upper body Stri...</td>\n",
              "    </tr>\n",
              "    <tr>\n",
              "      <th>3</th>\n",
              "      <td>110065001</td>\n",
              "      <td>OP T-shirt (Idro) Bra Underwear Solid Black Li...</td>\n",
              "    </tr>\n",
              "    <tr>\n",
              "      <th>4</th>\n",
              "      <td>110065002</td>\n",
              "      <td>OP T-shirt (Idro) Bra Underwear Solid White Li...</td>\n",
              "    </tr>\n",
              "  </tbody>\n",
              "</table>\n",
              "</div>"
            ],
            "text/plain": [
              "   article_id                              combined_article_desc\n",
              "0   108775015  Strap top Vest top Garment Upper body Solid Bl...\n",
              "1   108775044  Strap top Vest top Garment Upper body Solid Wh...\n",
              "2   108775051  Strap top (1) Vest top Garment Upper body Stri...\n",
              "3   110065001  OP T-shirt (Idro) Bra Underwear Solid Black Li...\n",
              "4   110065002  OP T-shirt (Idro) Bra Underwear Solid White Li..."
            ]
          },
          "execution_count": 31,
          "metadata": {},
          "output_type": "execute_result"
        }
      ],
      "source": [
        "#only taking article_id and combined_article_desc\n",
        "art_fin = art_req[['article_id','combined_article_desc']]\n",
        "\n",
        "art_fin.head()"
      ]
    },
    {
      "cell_type": "code",
      "execution_count": null,
      "metadata": {
        "execution": {
          "iopub.execute_input": "2022-04-25T07:17:46.667838Z",
          "iopub.status.busy": "2022-04-25T07:17:46.667601Z",
          "iopub.status.idle": "2022-04-25T07:17:46.672239Z",
          "shell.execute_reply": "2022-04-25T07:17:46.671394Z",
          "shell.execute_reply.started": "2022-04-25T07:17:46.667809Z"
        },
        "id": "i70U_0lj2GxO"
      },
      "outputs": [],
      "source": [
        "#considering only 7k rows to lower computational strain\n",
        "art_fin = art_fin.loc[:7000]"
      ]
    },
    {
      "cell_type": "code",
      "execution_count": null,
      "metadata": {
        "execution": {
          "iopub.status.busy": "2022-04-25T07:17:49.566326Z",
          "iopub.status.idle": "2022-04-25T07:17:49.566648Z",
          "shell.execute_reply": "2022-04-25T07:17:49.566499Z",
          "shell.execute_reply.started": "2022-04-25T07:17:49.566482Z"
        },
        "id": "nARNkpmx2GxO",
        "outputId": "d8e71423-67e9-42c8-d40c-81fbb592ae14"
      },
      "outputs": [
        {
          "data": {
            "text/html": [
              "<div>\n",
              "<style scoped>\n",
              "    .dataframe tbody tr th:only-of-type {\n",
              "        vertical-align: middle;\n",
              "    }\n",
              "\n",
              "    .dataframe tbody tr th {\n",
              "        vertical-align: top;\n",
              "    }\n",
              "\n",
              "    .dataframe thead th {\n",
              "        text-align: right;\n",
              "    }\n",
              "</style>\n",
              "<table border=\"1\" class=\"dataframe\">\n",
              "  <thead>\n",
              "    <tr style=\"text-align: right;\">\n",
              "      <th></th>\n",
              "      <th>t_dat</th>\n",
              "      <th>customer_id</th>\n",
              "      <th>article_id</th>\n",
              "      <th>price</th>\n",
              "      <th>sales_channel_id</th>\n",
              "    </tr>\n",
              "  </thead>\n",
              "  <tbody>\n",
              "    <tr>\n",
              "      <th>0</th>\n",
              "      <td>2018-09-20</td>\n",
              "      <td>000058a12d5b43e67d225668fa1f8d618c13dc232df0ca...</td>\n",
              "      <td>663713001</td>\n",
              "      <td>0.050831</td>\n",
              "      <td>2</td>\n",
              "    </tr>\n",
              "    <tr>\n",
              "      <th>1</th>\n",
              "      <td>2018-09-20</td>\n",
              "      <td>000058a12d5b43e67d225668fa1f8d618c13dc232df0ca...</td>\n",
              "      <td>541518023</td>\n",
              "      <td>0.030492</td>\n",
              "      <td>2</td>\n",
              "    </tr>\n",
              "    <tr>\n",
              "      <th>2</th>\n",
              "      <td>2018-09-20</td>\n",
              "      <td>00007d2de826758b65a93dd24ce629ed66842531df6699...</td>\n",
              "      <td>505221004</td>\n",
              "      <td>0.015237</td>\n",
              "      <td>2</td>\n",
              "    </tr>\n",
              "    <tr>\n",
              "      <th>3</th>\n",
              "      <td>2018-09-20</td>\n",
              "      <td>00007d2de826758b65a93dd24ce629ed66842531df6699...</td>\n",
              "      <td>685687003</td>\n",
              "      <td>0.016932</td>\n",
              "      <td>2</td>\n",
              "    </tr>\n",
              "    <tr>\n",
              "      <th>4</th>\n",
              "      <td>2018-09-20</td>\n",
              "      <td>00007d2de826758b65a93dd24ce629ed66842531df6699...</td>\n",
              "      <td>685687004</td>\n",
              "      <td>0.016932</td>\n",
              "      <td>2</td>\n",
              "    </tr>\n",
              "    <tr>\n",
              "      <th>...</th>\n",
              "      <td>...</td>\n",
              "      <td>...</td>\n",
              "      <td>...</td>\n",
              "      <td>...</td>\n",
              "      <td>...</td>\n",
              "    </tr>\n",
              "    <tr>\n",
              "      <th>6996</th>\n",
              "      <td>2018-09-20</td>\n",
              "      <td>25f84b30146077e569fbffa1e65f088c91d2d05fd5cbb2...</td>\n",
              "      <td>677967002</td>\n",
              "      <td>0.025407</td>\n",
              "      <td>2</td>\n",
              "    </tr>\n",
              "    <tr>\n",
              "      <th>6997</th>\n",
              "      <td>2018-09-20</td>\n",
              "      <td>25fb71146f126fb92eb8e14114c81e7b30042fc5ed9cbd...</td>\n",
              "      <td>668396001</td>\n",
              "      <td>0.015305</td>\n",
              "      <td>2</td>\n",
              "    </tr>\n",
              "    <tr>\n",
              "      <th>6998</th>\n",
              "      <td>2018-09-20</td>\n",
              "      <td>25fb71146f126fb92eb8e14114c81e7b30042fc5ed9cbd...</td>\n",
              "      <td>560221012</td>\n",
              "      <td>0.010712</td>\n",
              "      <td>2</td>\n",
              "    </tr>\n",
              "    <tr>\n",
              "      <th>6999</th>\n",
              "      <td>2018-09-20</td>\n",
              "      <td>25fb71146f126fb92eb8e14114c81e7b30042fc5ed9cbd...</td>\n",
              "      <td>639896001</td>\n",
              "      <td>0.015305</td>\n",
              "      <td>2</td>\n",
              "    </tr>\n",
              "    <tr>\n",
              "      <th>7000</th>\n",
              "      <td>2018-09-20</td>\n",
              "      <td>25fb71146f126fb92eb8e14114c81e7b30042fc5ed9cbd...</td>\n",
              "      <td>568575001</td>\n",
              "      <td>0.006119</td>\n",
              "      <td>2</td>\n",
              "    </tr>\n",
              "  </tbody>\n",
              "</table>\n",
              "<p>7001 rows × 5 columns</p>\n",
              "</div>"
            ],
            "text/plain": [
              "           t_dat                                        customer_id  \\\n",
              "0     2018-09-20  000058a12d5b43e67d225668fa1f8d618c13dc232df0ca...   \n",
              "1     2018-09-20  000058a12d5b43e67d225668fa1f8d618c13dc232df0ca...   \n",
              "2     2018-09-20  00007d2de826758b65a93dd24ce629ed66842531df6699...   \n",
              "3     2018-09-20  00007d2de826758b65a93dd24ce629ed66842531df6699...   \n",
              "4     2018-09-20  00007d2de826758b65a93dd24ce629ed66842531df6699...   \n",
              "...          ...                                                ...   \n",
              "6996  2018-09-20  25f84b30146077e569fbffa1e65f088c91d2d05fd5cbb2...   \n",
              "6997  2018-09-20  25fb71146f126fb92eb8e14114c81e7b30042fc5ed9cbd...   \n",
              "6998  2018-09-20  25fb71146f126fb92eb8e14114c81e7b30042fc5ed9cbd...   \n",
              "6999  2018-09-20  25fb71146f126fb92eb8e14114c81e7b30042fc5ed9cbd...   \n",
              "7000  2018-09-20  25fb71146f126fb92eb8e14114c81e7b30042fc5ed9cbd...   \n",
              "\n",
              "      article_id     price  sales_channel_id  \n",
              "0      663713001  0.050831                 2  \n",
              "1      541518023  0.030492                 2  \n",
              "2      505221004  0.015237                 2  \n",
              "3      685687003  0.016932                 2  \n",
              "4      685687004  0.016932                 2  \n",
              "...          ...       ...               ...  \n",
              "6996   677967002  0.025407                 2  \n",
              "6997   668396001  0.015305                 2  \n",
              "6998   560221012  0.010712                 2  \n",
              "6999   639896001  0.015305                 2  \n",
              "7000   568575001  0.006119                 2  \n",
              "\n",
              "[7001 rows x 5 columns]"
            ]
          },
          "execution_count": 33,
          "metadata": {},
          "output_type": "execute_result"
        }
      ],
      "source": [
        "trans = transactions.loc[:7000]\n",
        "trans"
      ]
    },
    {
      "cell_type": "code",
      "execution_count": null,
      "metadata": {
        "execution": {
          "iopub.status.busy": "2022-04-25T07:17:49.567945Z",
          "iopub.status.idle": "2022-04-25T07:17:49.568273Z",
          "shell.execute_reply": "2022-04-25T07:17:49.568107Z",
          "shell.execute_reply.started": "2022-04-25T07:17:49.568091Z"
        },
        "id": "3gVrR27H2GxO"
      },
      "outputs": [],
      "source": [
        "trans= transactions[transactions.customer_id.isin(trans['customer_id'])]\n"
      ]
    },
    {
      "cell_type": "code",
      "execution_count": null,
      "metadata": {
        "execution": {
          "iopub.status.busy": "2022-04-25T07:17:49.569633Z",
          "iopub.status.idle": "2022-04-25T07:17:49.569945Z",
          "shell.execute_reply": "2022-04-25T07:17:49.569802Z",
          "shell.execute_reply.started": "2022-04-25T07:17:49.569786Z"
        },
        "id": "7rUCVA8o2GxO"
      },
      "outputs": [],
      "source": [
        "#merging transactions and the final articles table to generate user profiles\n",
        "art_trans = pd.merge(art_fin, trans, on='article_id')\n"
      ]
    },
    {
      "cell_type": "code",
      "execution_count": null,
      "metadata": {
        "execution": {
          "iopub.status.busy": "2022-04-25T07:17:49.570853Z",
          "iopub.status.idle": "2022-04-25T07:17:49.571148Z",
          "shell.execute_reply": "2022-04-25T07:17:49.571007Z",
          "shell.execute_reply.started": "2022-04-25T07:17:49.570992Z"
        },
        "id": "Q7A9fmxK2GxO",
        "outputId": "26e329f2-70df-4a95-cc86-bd01213f2369"
      },
      "outputs": [
        {
          "data": {
            "text/html": [
              "<div>\n",
              "<style scoped>\n",
              "    .dataframe tbody tr th:only-of-type {\n",
              "        vertical-align: middle;\n",
              "    }\n",
              "\n",
              "    .dataframe tbody tr th {\n",
              "        vertical-align: top;\n",
              "    }\n",
              "\n",
              "    .dataframe thead th {\n",
              "        text-align: right;\n",
              "    }\n",
              "</style>\n",
              "<table border=\"1\" class=\"dataframe\">\n",
              "  <thead>\n",
              "    <tr style=\"text-align: right;\">\n",
              "      <th></th>\n",
              "      <th>article_id</th>\n",
              "      <th>combined_article_desc</th>\n",
              "      <th>t_dat</th>\n",
              "      <th>customer_id</th>\n",
              "      <th>price</th>\n",
              "      <th>sales_channel_id</th>\n",
              "    </tr>\n",
              "  </thead>\n",
              "  <tbody>\n",
              "    <tr>\n",
              "      <th>0</th>\n",
              "      <td>108775015</td>\n",
              "      <td>Strap top Vest top Garment Upper body Solid Bl...</td>\n",
              "      <td>2018-09-20</td>\n",
              "      <td>05ed96931b707698bc94aa53766d44686ae5ccbbc99dfb...</td>\n",
              "      <td>0.008458</td>\n",
              "      <td>1</td>\n",
              "    </tr>\n",
              "    <tr>\n",
              "      <th>1</th>\n",
              "      <td>108775015</td>\n",
              "      <td>Strap top Vest top Garment Upper body Solid Bl...</td>\n",
              "      <td>2018-09-20</td>\n",
              "      <td>05ed96931b707698bc94aa53766d44686ae5ccbbc99dfb...</td>\n",
              "      <td>0.008458</td>\n",
              "      <td>1</td>\n",
              "    </tr>\n",
              "    <tr>\n",
              "      <th>2</th>\n",
              "      <td>108775015</td>\n",
              "      <td>Strap top Vest top Garment Upper body Solid Bl...</td>\n",
              "      <td>2018-09-20</td>\n",
              "      <td>0aaa9683d5f45b85d0f9a81e2f4d4ef774fed43339fb75...</td>\n",
              "      <td>0.008068</td>\n",
              "      <td>2</td>\n",
              "    </tr>\n",
              "    <tr>\n",
              "      <th>3</th>\n",
              "      <td>108775015</td>\n",
              "      <td>Strap top Vest top Garment Upper body Solid Bl...</td>\n",
              "      <td>2018-09-20</td>\n",
              "      <td>20ccafd82d923baecf1fb8705d459e243c8ca9c74ee24e...</td>\n",
              "      <td>0.008458</td>\n",
              "      <td>1</td>\n",
              "    </tr>\n",
              "    <tr>\n",
              "      <th>4</th>\n",
              "      <td>108775015</td>\n",
              "      <td>Strap top Vest top Garment Upper body Solid Bl...</td>\n",
              "      <td>2018-09-20</td>\n",
              "      <td>2135790e6b63d10b59f9d8b84a58e24328b0f5ed3a48f1...</td>\n",
              "      <td>0.008458</td>\n",
              "      <td>1</td>\n",
              "    </tr>\n",
              "    <tr>\n",
              "      <th>...</th>\n",
              "      <td>...</td>\n",
              "      <td>...</td>\n",
              "      <td>...</td>\n",
              "      <td>...</td>\n",
              "      <td>...</td>\n",
              "      <td>...</td>\n",
              "    </tr>\n",
              "    <tr>\n",
              "      <th>10938</th>\n",
              "      <td>509642001</td>\n",
              "      <td>Assa Skirt Garment Lower body Solid Dark Green...</td>\n",
              "      <td>2018-11-21</td>\n",
              "      <td>09bca14258b7e9b9ee968adffe54d45c1e370e8ed79a22...</td>\n",
              "      <td>0.020322</td>\n",
              "      <td>2</td>\n",
              "    </tr>\n",
              "    <tr>\n",
              "      <th>10939</th>\n",
              "      <td>509653003</td>\n",
              "      <td>Poppy straw shopper Bag Accessories Solid Beig...</td>\n",
              "      <td>2018-11-13</td>\n",
              "      <td>1c1c31e5a6c7378e689f4efa451d661cc2e3eb016c8cfa...</td>\n",
              "      <td>0.025407</td>\n",
              "      <td>2</td>\n",
              "    </tr>\n",
              "    <tr>\n",
              "      <th>10940</th>\n",
              "      <td>509653003</td>\n",
              "      <td>Poppy straw shopper Bag Accessories Solid Beig...</td>\n",
              "      <td>2018-12-02</td>\n",
              "      <td>063b18b8887447b6bf21b56496069f014f81cfbe281b55...</td>\n",
              "      <td>0.024136</td>\n",
              "      <td>2</td>\n",
              "    </tr>\n",
              "    <tr>\n",
              "      <th>10941</th>\n",
              "      <td>509653003</td>\n",
              "      <td>Poppy straw shopper Bag Accessories Solid Beig...</td>\n",
              "      <td>2018-12-05</td>\n",
              "      <td>063b18b8887447b6bf21b56496069f014f81cfbe281b55...</td>\n",
              "      <td>0.025407</td>\n",
              "      <td>2</td>\n",
              "    </tr>\n",
              "    <tr>\n",
              "      <th>10942</th>\n",
              "      <td>509668001</td>\n",
              "      <td>Noah hood Sweater Garment Upper body Melange D...</td>\n",
              "      <td>2018-09-20</td>\n",
              "      <td>07b9c65c7f3f1b709c9163bcecf62ac438a5ab5e9b6e13...</td>\n",
              "      <td>0.015254</td>\n",
              "      <td>1</td>\n",
              "    </tr>\n",
              "  </tbody>\n",
              "</table>\n",
              "<p>10943 rows × 6 columns</p>\n",
              "</div>"
            ],
            "text/plain": [
              "       article_id                              combined_article_desc  \\\n",
              "0       108775015  Strap top Vest top Garment Upper body Solid Bl...   \n",
              "1       108775015  Strap top Vest top Garment Upper body Solid Bl...   \n",
              "2       108775015  Strap top Vest top Garment Upper body Solid Bl...   \n",
              "3       108775015  Strap top Vest top Garment Upper body Solid Bl...   \n",
              "4       108775015  Strap top Vest top Garment Upper body Solid Bl...   \n",
              "...           ...                                                ...   \n",
              "10938   509642001  Assa Skirt Garment Lower body Solid Dark Green...   \n",
              "10939   509653003  Poppy straw shopper Bag Accessories Solid Beig...   \n",
              "10940   509653003  Poppy straw shopper Bag Accessories Solid Beig...   \n",
              "10941   509653003  Poppy straw shopper Bag Accessories Solid Beig...   \n",
              "10942   509668001  Noah hood Sweater Garment Upper body Melange D...   \n",
              "\n",
              "            t_dat                                        customer_id  \\\n",
              "0      2018-09-20  05ed96931b707698bc94aa53766d44686ae5ccbbc99dfb...   \n",
              "1      2018-09-20  05ed96931b707698bc94aa53766d44686ae5ccbbc99dfb...   \n",
              "2      2018-09-20  0aaa9683d5f45b85d0f9a81e2f4d4ef774fed43339fb75...   \n",
              "3      2018-09-20  20ccafd82d923baecf1fb8705d459e243c8ca9c74ee24e...   \n",
              "4      2018-09-20  2135790e6b63d10b59f9d8b84a58e24328b0f5ed3a48f1...   \n",
              "...           ...                                                ...   \n",
              "10938  2018-11-21  09bca14258b7e9b9ee968adffe54d45c1e370e8ed79a22...   \n",
              "10939  2018-11-13  1c1c31e5a6c7378e689f4efa451d661cc2e3eb016c8cfa...   \n",
              "10940  2018-12-02  063b18b8887447b6bf21b56496069f014f81cfbe281b55...   \n",
              "10941  2018-12-05  063b18b8887447b6bf21b56496069f014f81cfbe281b55...   \n",
              "10942  2018-09-20  07b9c65c7f3f1b709c9163bcecf62ac438a5ab5e9b6e13...   \n",
              "\n",
              "          price  sales_channel_id  \n",
              "0      0.008458                 1  \n",
              "1      0.008458                 1  \n",
              "2      0.008068                 2  \n",
              "3      0.008458                 1  \n",
              "4      0.008458                 1  \n",
              "...         ...               ...  \n",
              "10938  0.020322                 2  \n",
              "10939  0.025407                 2  \n",
              "10940  0.024136                 2  \n",
              "10941  0.025407                 2  \n",
              "10942  0.015254                 1  \n",
              "\n",
              "[10943 rows x 6 columns]"
            ]
          },
          "execution_count": 36,
          "metadata": {},
          "output_type": "execute_result"
        }
      ],
      "source": [
        "art_trans"
      ]
    },
    {
      "cell_type": "code",
      "execution_count": null,
      "metadata": {
        "execution": {
          "iopub.status.busy": "2022-04-25T07:17:49.571965Z",
          "iopub.status.idle": "2022-04-25T07:17:49.572288Z",
          "shell.execute_reply": "2022-04-25T07:17:49.572119Z",
          "shell.execute_reply.started": "2022-04-25T07:17:49.572103Z"
        },
        "id": "1CU3V1F82GxO"
      },
      "outputs": [],
      "source": [
        "#merge on customer_id to get user profiles\n",
        "tot_trans = pd.merge(art_trans,customers,on='customer_id')"
      ]
    },
    {
      "cell_type": "code",
      "execution_count": null,
      "metadata": {
        "execution": {
          "iopub.status.busy": "2022-04-25T07:17:49.573255Z",
          "iopub.status.idle": "2022-04-25T07:17:49.573556Z",
          "shell.execute_reply": "2022-04-25T07:17:49.573413Z",
          "shell.execute_reply.started": "2022-04-25T07:17:49.573398Z"
        },
        "id": "orfb7vgn2GxP",
        "outputId": "96162dc4-2c82-45d7-a29a-38bcb99ac31a"
      },
      "outputs": [
        {
          "data": {
            "text/html": [
              "<div>\n",
              "<style scoped>\n",
              "    .dataframe tbody tr th:only-of-type {\n",
              "        vertical-align: middle;\n",
              "    }\n",
              "\n",
              "    .dataframe tbody tr th {\n",
              "        vertical-align: top;\n",
              "    }\n",
              "\n",
              "    .dataframe thead th {\n",
              "        text-align: right;\n",
              "    }\n",
              "</style>\n",
              "<table border=\"1\" class=\"dataframe\">\n",
              "  <thead>\n",
              "    <tr style=\"text-align: right;\">\n",
              "      <th></th>\n",
              "      <th>article_id</th>\n",
              "      <th>combined_article_desc</th>\n",
              "      <th>t_dat</th>\n",
              "      <th>customer_id</th>\n",
              "      <th>price</th>\n",
              "      <th>sales_channel_id</th>\n",
              "      <th>FN</th>\n",
              "      <th>Active</th>\n",
              "      <th>club_member_status</th>\n",
              "      <th>fashion_news_frequency</th>\n",
              "      <th>age</th>\n",
              "      <th>postal_code</th>\n",
              "    </tr>\n",
              "  </thead>\n",
              "  <tbody>\n",
              "    <tr>\n",
              "      <th>0</th>\n",
              "      <td>108775015</td>\n",
              "      <td>Strap top Vest top Garment Upper body Solid Bl...</td>\n",
              "      <td>2018-09-20</td>\n",
              "      <td>05ed96931b707698bc94aa53766d44686ae5ccbbc99dfb...</td>\n",
              "      <td>0.008458</td>\n",
              "      <td>1</td>\n",
              "      <td>1.0</td>\n",
              "      <td>1.0</td>\n",
              "      <td>ACTIVE</td>\n",
              "      <td>Regularly</td>\n",
              "      <td>37.0</td>\n",
              "      <td>e15819a7b5a739bde5002a217d27e049695afb433924ce...</td>\n",
              "    </tr>\n",
              "    <tr>\n",
              "      <th>1</th>\n",
              "      <td>108775015</td>\n",
              "      <td>Strap top Vest top Garment Upper body Solid Bl...</td>\n",
              "      <td>2018-09-20</td>\n",
              "      <td>05ed96931b707698bc94aa53766d44686ae5ccbbc99dfb...</td>\n",
              "      <td>0.008458</td>\n",
              "      <td>1</td>\n",
              "      <td>1.0</td>\n",
              "      <td>1.0</td>\n",
              "      <td>ACTIVE</td>\n",
              "      <td>Regularly</td>\n",
              "      <td>37.0</td>\n",
              "      <td>e15819a7b5a739bde5002a217d27e049695afb433924ce...</td>\n",
              "    </tr>\n",
              "    <tr>\n",
              "      <th>2</th>\n",
              "      <td>108775015</td>\n",
              "      <td>Strap top Vest top Garment Upper body Solid Bl...</td>\n",
              "      <td>2018-12-04</td>\n",
              "      <td>05ed96931b707698bc94aa53766d44686ae5ccbbc99dfb...</td>\n",
              "      <td>0.008458</td>\n",
              "      <td>1</td>\n",
              "      <td>1.0</td>\n",
              "      <td>1.0</td>\n",
              "      <td>ACTIVE</td>\n",
              "      <td>Regularly</td>\n",
              "      <td>37.0</td>\n",
              "      <td>e15819a7b5a739bde5002a217d27e049695afb433924ce...</td>\n",
              "    </tr>\n",
              "    <tr>\n",
              "      <th>3</th>\n",
              "      <td>237347040</td>\n",
              "      <td>Theron Hoodie Garment Upper body Melange Light...</td>\n",
              "      <td>2019-04-08</td>\n",
              "      <td>05ed96931b707698bc94aa53766d44686ae5ccbbc99dfb...</td>\n",
              "      <td>0.033881</td>\n",
              "      <td>1</td>\n",
              "      <td>1.0</td>\n",
              "      <td>1.0</td>\n",
              "      <td>ACTIVE</td>\n",
              "      <td>Regularly</td>\n",
              "      <td>37.0</td>\n",
              "      <td>e15819a7b5a739bde5002a217d27e049695afb433924ce...</td>\n",
              "    </tr>\n",
              "    <tr>\n",
              "      <th>4</th>\n",
              "      <td>270381001</td>\n",
              "      <td>Clubba sunglasses Sunglasses Accessories Solid...</td>\n",
              "      <td>2019-07-12</td>\n",
              "      <td>05ed96931b707698bc94aa53766d44686ae5ccbbc99dfb...</td>\n",
              "      <td>0.006763</td>\n",
              "      <td>1</td>\n",
              "      <td>1.0</td>\n",
              "      <td>1.0</td>\n",
              "      <td>ACTIVE</td>\n",
              "      <td>Regularly</td>\n",
              "      <td>37.0</td>\n",
              "      <td>e15819a7b5a739bde5002a217d27e049695afb433924ce...</td>\n",
              "    </tr>\n",
              "    <tr>\n",
              "      <th>...</th>\n",
              "      <td>...</td>\n",
              "      <td>...</td>\n",
              "      <td>...</td>\n",
              "      <td>...</td>\n",
              "      <td>...</td>\n",
              "      <td>...</td>\n",
              "      <td>...</td>\n",
              "      <td>...</td>\n",
              "      <td>...</td>\n",
              "      <td>...</td>\n",
              "      <td>...</td>\n",
              "      <td>...</td>\n",
              "    </tr>\n",
              "    <tr>\n",
              "      <th>10938</th>\n",
              "      <td>508543050</td>\n",
              "      <td>BEN POLO TP Polo shirt Garment Upper body Soli...</td>\n",
              "      <td>2019-07-17</td>\n",
              "      <td>12914596d63c0ec48284c481577721525c6cc74f5b934f...</td>\n",
              "      <td>0.005068</td>\n",
              "      <td>2</td>\n",
              "      <td>0.0</td>\n",
              "      <td>0.0</td>\n",
              "      <td>ACTIVE</td>\n",
              "      <td>NONE</td>\n",
              "      <td>34.0</td>\n",
              "      <td>15ccaaae01a830cb8d150ec3c4f772c5ab22cdacafe1ca...</td>\n",
              "    </tr>\n",
              "    <tr>\n",
              "      <th>10939</th>\n",
              "      <td>509091023</td>\n",
              "      <td>Lola Brazilian (Acacia) 3pk Underwear bottom U...</td>\n",
              "      <td>2018-11-04</td>\n",
              "      <td>05f937db5c00677fc33678764f4540b9f0083e12e5d517...</td>\n",
              "      <td>0.016932</td>\n",
              "      <td>1</td>\n",
              "      <td>0.0</td>\n",
              "      <td>0.0</td>\n",
              "      <td>ACTIVE</td>\n",
              "      <td>NONE</td>\n",
              "      <td>28.0</td>\n",
              "      <td>8fd4f31a52219fdd511af843483c081be96825dd496f17...</td>\n",
              "    </tr>\n",
              "    <tr>\n",
              "      <th>10940</th>\n",
              "      <td>509091026</td>\n",
              "      <td>Lola Brazilian (Acacia) 3pk Underwear bottom U...</td>\n",
              "      <td>2020-07-09</td>\n",
              "      <td>15d457bcfb1ab063fb7e4abeffbb053d7ce904fede88ef...</td>\n",
              "      <td>0.016932</td>\n",
              "      <td>1</td>\n",
              "      <td>1.0</td>\n",
              "      <td>1.0</td>\n",
              "      <td>ACTIVE</td>\n",
              "      <td>Regularly</td>\n",
              "      <td>22.0</td>\n",
              "      <td>90f994441254a70fef6241afce961b41343a8c4b9e89b3...</td>\n",
              "    </tr>\n",
              "    <tr>\n",
              "      <th>10941</th>\n",
              "      <td>509091045</td>\n",
              "      <td>Lola Brazilian (Acacia) 3pk Underwear bottom U...</td>\n",
              "      <td>2020-02-11</td>\n",
              "      <td>03ef658609554eaefb7d558411f3db5da2fb951b930636...</td>\n",
              "      <td>0.013169</td>\n",
              "      <td>1</td>\n",
              "      <td>1.0</td>\n",
              "      <td>1.0</td>\n",
              "      <td>ACTIVE</td>\n",
              "      <td>Regularly</td>\n",
              "      <td>19.0</td>\n",
              "      <td>fa0d9875d4f4dcb96d3cd7151cb37953afc05d6c654c80...</td>\n",
              "    </tr>\n",
              "    <tr>\n",
              "      <th>10942</th>\n",
              "      <td>509091060</td>\n",
              "      <td>Lola Brazilian (Acacia) 3pk Underwear bottom U...</td>\n",
              "      <td>2020-05-27</td>\n",
              "      <td>13be5c80b127f566b344dcbeae23ee679dae0c88d51a62...</td>\n",
              "      <td>0.016932</td>\n",
              "      <td>2</td>\n",
              "      <td>0.0</td>\n",
              "      <td>0.0</td>\n",
              "      <td>ACTIVE</td>\n",
              "      <td>NONE</td>\n",
              "      <td>24.0</td>\n",
              "      <td>e782d163b80fea4fd513494a5353ea3882356266b01d19...</td>\n",
              "    </tr>\n",
              "  </tbody>\n",
              "</table>\n",
              "<p>10943 rows × 12 columns</p>\n",
              "</div>"
            ],
            "text/plain": [
              "       article_id                              combined_article_desc  \\\n",
              "0       108775015  Strap top Vest top Garment Upper body Solid Bl...   \n",
              "1       108775015  Strap top Vest top Garment Upper body Solid Bl...   \n",
              "2       108775015  Strap top Vest top Garment Upper body Solid Bl...   \n",
              "3       237347040  Theron Hoodie Garment Upper body Melange Light...   \n",
              "4       270381001  Clubba sunglasses Sunglasses Accessories Solid...   \n",
              "...           ...                                                ...   \n",
              "10938   508543050  BEN POLO TP Polo shirt Garment Upper body Soli...   \n",
              "10939   509091023  Lola Brazilian (Acacia) 3pk Underwear bottom U...   \n",
              "10940   509091026  Lola Brazilian (Acacia) 3pk Underwear bottom U...   \n",
              "10941   509091045  Lola Brazilian (Acacia) 3pk Underwear bottom U...   \n",
              "10942   509091060  Lola Brazilian (Acacia) 3pk Underwear bottom U...   \n",
              "\n",
              "            t_dat                                        customer_id  \\\n",
              "0      2018-09-20  05ed96931b707698bc94aa53766d44686ae5ccbbc99dfb...   \n",
              "1      2018-09-20  05ed96931b707698bc94aa53766d44686ae5ccbbc99dfb...   \n",
              "2      2018-12-04  05ed96931b707698bc94aa53766d44686ae5ccbbc99dfb...   \n",
              "3      2019-04-08  05ed96931b707698bc94aa53766d44686ae5ccbbc99dfb...   \n",
              "4      2019-07-12  05ed96931b707698bc94aa53766d44686ae5ccbbc99dfb...   \n",
              "...           ...                                                ...   \n",
              "10938  2019-07-17  12914596d63c0ec48284c481577721525c6cc74f5b934f...   \n",
              "10939  2018-11-04  05f937db5c00677fc33678764f4540b9f0083e12e5d517...   \n",
              "10940  2020-07-09  15d457bcfb1ab063fb7e4abeffbb053d7ce904fede88ef...   \n",
              "10941  2020-02-11  03ef658609554eaefb7d558411f3db5da2fb951b930636...   \n",
              "10942  2020-05-27  13be5c80b127f566b344dcbeae23ee679dae0c88d51a62...   \n",
              "\n",
              "          price  sales_channel_id   FN  Active club_member_status  \\\n",
              "0      0.008458                 1  1.0     1.0             ACTIVE   \n",
              "1      0.008458                 1  1.0     1.0             ACTIVE   \n",
              "2      0.008458                 1  1.0     1.0             ACTIVE   \n",
              "3      0.033881                 1  1.0     1.0             ACTIVE   \n",
              "4      0.006763                 1  1.0     1.0             ACTIVE   \n",
              "...         ...               ...  ...     ...                ...   \n",
              "10938  0.005068                 2  0.0     0.0             ACTIVE   \n",
              "10939  0.016932                 1  0.0     0.0             ACTIVE   \n",
              "10940  0.016932                 1  1.0     1.0             ACTIVE   \n",
              "10941  0.013169                 1  1.0     1.0             ACTIVE   \n",
              "10942  0.016932                 2  0.0     0.0             ACTIVE   \n",
              "\n",
              "      fashion_news_frequency   age  \\\n",
              "0                  Regularly  37.0   \n",
              "1                  Regularly  37.0   \n",
              "2                  Regularly  37.0   \n",
              "3                  Regularly  37.0   \n",
              "4                  Regularly  37.0   \n",
              "...                      ...   ...   \n",
              "10938                   NONE  34.0   \n",
              "10939                   NONE  28.0   \n",
              "10940              Regularly  22.0   \n",
              "10941              Regularly  19.0   \n",
              "10942                   NONE  24.0   \n",
              "\n",
              "                                             postal_code  \n",
              "0      e15819a7b5a739bde5002a217d27e049695afb433924ce...  \n",
              "1      e15819a7b5a739bde5002a217d27e049695afb433924ce...  \n",
              "2      e15819a7b5a739bde5002a217d27e049695afb433924ce...  \n",
              "3      e15819a7b5a739bde5002a217d27e049695afb433924ce...  \n",
              "4      e15819a7b5a739bde5002a217d27e049695afb433924ce...  \n",
              "...                                                  ...  \n",
              "10938  15ccaaae01a830cb8d150ec3c4f772c5ab22cdacafe1ca...  \n",
              "10939  8fd4f31a52219fdd511af843483c081be96825dd496f17...  \n",
              "10940  90f994441254a70fef6241afce961b41343a8c4b9e89b3...  \n",
              "10941  fa0d9875d4f4dcb96d3cd7151cb37953afc05d6c654c80...  \n",
              "10942  e782d163b80fea4fd513494a5353ea3882356266b01d19...  \n",
              "\n",
              "[10943 rows x 12 columns]"
            ]
          },
          "execution_count": 38,
          "metadata": {},
          "output_type": "execute_result"
        }
      ],
      "source": [
        "tot_trans"
      ]
    },
    {
      "cell_type": "code",
      "execution_count": null,
      "metadata": {
        "execution": {
          "iopub.status.busy": "2022-04-25T07:17:49.574399Z",
          "iopub.status.idle": "2022-04-25T07:17:49.574694Z",
          "shell.execute_reply": "2022-04-25T07:17:49.574553Z",
          "shell.execute_reply.started": "2022-04-25T07:17:49.574538Z"
        },
        "id": "7ZgmucWX2GxP",
        "outputId": "8769e54f-2b83-43cf-8944-ada566daca6a"
      },
      "outputs": [
        {
          "data": {
            "text/plain": [
              "(10943, 12)"
            ]
          },
          "execution_count": 39,
          "metadata": {},
          "output_type": "execute_result"
        }
      ],
      "source": [
        "tot_trans.shape"
      ]
    },
    {
      "cell_type": "markdown",
      "metadata": {
        "id": "RIKhWV0h2GxP"
      },
      "source": [
        "Generating recommendations"
      ]
    },
    {
      "cell_type": "code",
      "execution_count": null,
      "metadata": {
        "id": "3Akr7CnH2GxP"
      },
      "outputs": [],
      "source": [
        "#generating TF-IDF matrix using the combined article description attribute\n",
        "from sklearn.feature_extraction.text import TfidfVectorizer\n",
        "\n",
        "tf_idf = TfidfVectorizer(stop_words='english')\n",
        "\n",
        "art_fin['combined_article_desc'] = art_fin['combined_article_desc'].fillna('')\n",
        "\n",
        "tf_idf_matrix = tf_idf.fit_transform(art_fin['combined_article_desc'])\n",
        "\n",
        "tf_idf_matrix.shape"
      ]
    },
    {
      "cell_type": "code",
      "execution_count": null,
      "metadata": {
        "id": "c7igBlGG2GxP",
        "outputId": "784839ee-5bc3-4a12-83c1-e3773ad6ca5e"
      },
      "outputs": [
        {
          "name": "stdout",
          "output_type": "stream",
          "text": [
            "  (0, 2506)\t0.2279398092583205\n",
            "  (0, 2353)\t0.22513485078515527\n",
            "  (0, 1832)\t0.21750761777495062\n",
            "  (0, 335)\t0.1416600346741945\n",
            "  (0, 939)\t0.2557276261684168\n",
            "  (0, 2881)\t0.15284632683579064\n",
            "  (0, 334)\t0.31920569075663485\n",
            "  (0, 1384)\t0.36091246149203193\n",
            "  (0, 767)\t0.10638149379017811\n",
            "  (0, 1508)\t0.4270723572789155\n",
            "  (0, 386)\t0.32816235796177107\n",
            "  (0, 2443)\t0.10779868395913987\n",
            "  (0, 412)\t0.0950393940233684\n",
            "  (0, 2750)\t0.12866526022530123\n",
            "  (0, 1093)\t0.09520454614907695\n",
            "  (0, 2782)\t0.2674381232580351\n",
            "  (0, 2503)\t0.29979779154466246\n",
            "  (1, 1573)\t0.12604227637048937\n",
            "  (1, 2856)\t0.4030229675123772\n",
            "  (1, 2506)\t0.2201339304773931\n",
            "  (1, 2353)\t0.2174250287917557\n",
            "  (1, 1832)\t0.2100589930533452\n",
            "  (1, 335)\t0.13680883706037367\n",
            "  (1, 939)\t0.2469701438431476\n",
            "  (1, 2881)\t0.14761205072021283\n",
            "  :\t:\n",
            "  (7000, 739)\t0.10339789685231889\n",
            "  (7000, 2174)\t0.11539592348854961\n",
            "  (7000, 2910)\t0.2289033897380536\n",
            "  (7000, 46)\t0.2368692374370664\n",
            "  (7000, 30)\t0.2368692374370664\n",
            "  (7000, 444)\t0.21244771066141796\n",
            "  (7000, 1585)\t0.1077420698789694\n",
            "  (7000, 470)\t0.13349014206554444\n",
            "  (7000, 1924)\t0.32533817475281673\n",
            "  (7000, 953)\t0.2168252688463741\n",
            "  (7000, 948)\t0.1020789503400995\n",
            "  (7000, 2399)\t0.10763150050653468\n",
            "  (7000, 1614)\t0.10236440846043042\n",
            "  (7000, 1322)\t0.15304317636731044\n",
            "  (7000, 481)\t0.1635135736091254\n",
            "  (7000, 2435)\t0.07972641381995789\n",
            "  (7000, 584)\t0.23348383446548243\n",
            "  (7000, 2380)\t0.16209881480095956\n",
            "  (7000, 305)\t0.07782794482182748\n",
            "  (7000, 2560)\t0.1406690969258129\n",
            "  (7000, 2563)\t0.13296966319284587\n",
            "  (7000, 1384)\t0.13958840350424045\n",
            "  (7000, 412)\t0.05513690450125399\n",
            "  (7000, 2750)\t0.07464488003708332\n",
            "  (7000, 1093)\t0.055232717159541055\n"
          ]
        }
      ],
      "source": [
        "print(tf_idf_matrix)"
      ]
    },
    {
      "cell_type": "code",
      "execution_count": null,
      "metadata": {
        "id": "xzzsQyod2GxP",
        "outputId": "4ae1c139-6e71-4081-c942-32cd2fe96cef"
      },
      "outputs": [
        {
          "name": "stdout",
          "output_type": "stream",
          "text": [
            "[[1.         0.85082255 0.8146006  ... 0.07177238 0.07405725 0.07048198]\n",
            " [0.85082255 1.         0.95970912 ... 0.06931451 0.08154866 0.0680683 ]\n",
            " [0.8146006  0.95970912 1.         ... 0.06725065 0.09016667 0.06604155]\n",
            " ...\n",
            " [0.07177238 0.06931451 0.06725065 ... 1.         0.88578634 0.84302316]\n",
            " [0.07405725 0.08154866 0.09016667 ... 0.88578634 1.         0.86986076]\n",
            " [0.07048198 0.0680683  0.06604155 ... 0.84302316 0.86986076 1.        ]]\n"
          ]
        }
      ],
      "source": [
        "#using linerkernel to calculate cosine similarities\n",
        "from sklearn.metrics.pairwise import linear_kernel\n",
        "cos_similarity = linear_kernel(tf_idf_matrix, tf_idf_matrix) # cossim(a,b)= a.b/||a||.||b||\n",
        "print(cos_similarity)"
      ]
    },
    {
      "cell_type": "code",
      "execution_count": null,
      "metadata": {
        "id": "7fGBGEnN2GxP"
      },
      "outputs": [],
      "source": [
        "article_indices=pd.Series(art_fin.index, index=art_fin['article_id']).drop_duplicates()"
      ]
    },
    {
      "cell_type": "code",
      "execution_count": null,
      "metadata": {
        "id": "qq9JSYGj2GxP"
      },
      "outputs": [],
      "source": [
        "#defining a function to enumerate and sort similarity scores\n",
        "def sim_score(title):\n",
        "    similar_indices = article_indices[title]\n",
        "    similarityscores = list(enumerate(cos_similarity[similar_indices]))\n",
        "    similarityscores = sorted(similarityscores, key=lambda x: x[1], reverse=True)\n",
        "    similarityscores = similarityscores[:6]\n",
        "    return similarityscores"
      ]
    },
    {
      "cell_type": "code",
      "execution_count": null,
      "metadata": {
        "id": "1cCr7Eko2GxP"
      },
      "outputs": [],
      "source": [
        "#function for obtaining similar articles of a given article based on the cosine similarity\n",
        "def recommend(title, cos_sim=cos_similarity):\n",
        "    \n",
        "    z=sim_score(title)\n",
        " \n",
        "    art_idx = [a[0] for a in z]\n",
        "\n",
        " \n",
        "    return art_fin['article_id'].iloc[art_idx]"
      ]
    },
    {
      "cell_type": "code",
      "execution_count": null,
      "metadata": {
        "execution": {
          "iopub.status.busy": "2022-04-25T07:17:49.575704Z",
          "iopub.status.idle": "2022-04-25T07:17:49.576013Z",
          "shell.execute_reply": "2022-04-25T07:17:49.575868Z",
          "shell.execute_reply.started": "2022-04-25T07:17:49.575853Z"
        },
        "id": "deuyfZU42GxP"
      },
      "outputs": [],
      "source": [
        "#we get sll the articles purchased by each customer\n",
        "def get_articles(c_id):\n",
        "    art= tot_trans.loc[c_id==tot_trans['customer_id'], 'article_id']\n",
        "    return art\n",
        "\n",
        "\n"
      ]
    },
    {
      "cell_type": "code",
      "execution_count": null,
      "metadata": {
        "execution": {
          "iopub.status.busy": "2022-04-25T07:17:49.579647Z",
          "iopub.status.idle": "2022-04-25T07:17:49.579951Z",
          "shell.execute_reply": "2022-04-25T07:17:49.579806Z",
          "shell.execute_reply.started": "2022-04-25T07:17:49.579791Z"
        },
        "id": "nDc9q48F2GxP"
      },
      "outputs": [],
      "source": [
        "#we get the list of recommendations on sn article purchased by a particular customer\n",
        "reec=[]\n",
        "def recommendations(c_id):\n",
        "    a= get_articles(c_id)\n",
        "    for artic in a:\n",
        "        b=artic\n",
        "        e=int(b)\n",
        "        d= list(recommend (e))\n",
        "        reec.append(d[0:6])\n",
        "    return reec\n"
      ]
    },
    {
      "cell_type": "code",
      "execution_count": null,
      "metadata": {
        "execution": {
          "iopub.status.busy": "2022-04-25T07:17:49.581353Z",
          "iopub.status.idle": "2022-04-25T07:17:49.581837Z",
          "shell.execute_reply": "2022-04-25T07:17:49.581600Z",
          "shell.execute_reply.started": "2022-04-25T07:17:49.581575Z"
        },
        "scrolled": true,
        "id": "1MiVzeJh2GxP",
        "outputId": "75903254-cbe5-4e8a-cf0f-b52dc7b292d2"
      },
      "outputs": [
        {
          "name": "stdout",
          "output_type": "stream",
          "text": [
            "The article recommended for 00402f4463c8dc1b3ee54abfdea280e96cd87320449eca8953eb06769a5c20d4\n",
            "Recommendation for item 507909001 is [507909003, 507909017, 507909006, 507909024, 507909008]\n",
            "\n",
            "\n",
            "\n"
          ]
        }
      ],
      "source": [
        "#final recommendations based on the passed customer_id\n",
        "reec=[]\n",
        "def final_recommendations(art):\n",
        "    for x in art:\n",
        "        recommended_item=recommendations(x)\n",
        "        print(\"The article recommended for \"+str(x))\n",
        "        for j in recommended_item:\n",
        "            print(\"Recommendation for item \"+str(j[0])+\" is \"+str(j[1:6])+\"\\n\")\n",
        "        print(\"\\n\")\n",
        "        \n",
        "\n",
        "customers = [\"00402f4463c8dc1b3ee54abfdea280e96cd87320449eca8953eb06769a5c20d4\"]\n",
        "final_recommendations(customers)"
      ]
    }
  ],
  "metadata": {
    "kernelspec": {
      "display_name": "Python 3 (ipykernel)",
      "language": "python",
      "name": "python3"
    },
    "language_info": {
      "codemirror_mode": {
        "name": "ipython",
        "version": 3
      },
      "file_extension": ".py",
      "mimetype": "text/x-python",
      "name": "python",
      "nbconvert_exporter": "python",
      "pygments_lexer": "ipython3",
      "version": "3.9.7"
    },
    "colab": {
      "name": "CIS5570_H&MRecSys.ipynb",
      "provenance": []
    }
  },
  "nbformat": 4,
  "nbformat_minor": 0
}